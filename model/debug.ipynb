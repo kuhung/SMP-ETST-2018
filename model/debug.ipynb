{
 "cells": [
  {
   "cell_type": "code",
   "execution_count": 1,
   "metadata": {},
   "outputs": [
    {
     "name": "stderr",
     "output_type": "stream",
     "text": [
      "C:\\Users\\kuhung\\AppData\\Roaming\\Python\\Python36\\site-packages\\ipykernel_launcher.py:9: SettingWithCopyWarning: \n",
      "A value is trying to be set on a copy of a slice from a DataFrame\n",
      "\n",
      "See the caveats in the documentation: http://pandas.pydata.org/pandas-docs/stable/indexing.html#indexing-view-versus-copy\n",
      "  if __name__ == '__main__':\n",
      "C:\\Users\\kuhung\\AppData\\Roaming\\Python\\Python36\\site-packages\\ipykernel_launcher.py:10: SettingWithCopyWarning: \n",
      "A value is trying to be set on a copy of a slice from a DataFrame\n",
      "\n",
      "See the caveats in the documentation: http://pandas.pydata.org/pandas-docs/stable/indexing.html#indexing-view-versus-copy\n",
      "  # Remove the CWD from sys.path while we load stuff.\n"
     ]
    }
   ],
   "source": [
    "# coding: utf-8\n",
    "import pandas as pd\n",
    "\n",
    "data = pd.read_csv('../feature/data_vec.csv')\n",
    "\n",
    "train = data.loc[data['source']=='train']\n",
    "test = data.loc[data['source']=='test']\n",
    "\n",
    "train.drop(['source'],axis=1,inplace=True)\n",
    "test.drop(['source'],axis=1,inplace=True)\n",
    "\n",
    "\n",
    "X = train.drop(['id'],axis=1)\n",
    "y = train['id']"
   ]
  },
  {
   "cell_type": "code",
   "execution_count": 7,
   "metadata": {},
   "outputs": [
    {
     "name": "stdout",
     "output_type": "stream",
     "text": [
      "load model.\n"
     ]
    }
   ],
   "source": [
    "print('load model.')\n",
    "from sklearn.neighbors import KNeighborsClassifier\n",
    "neigh = KNeighborsClassifier(n_neighbors=1)\n",
    "neigh.fit(X, y) \n",
    "\n",
    "feature = test.drop(['id'],axis=1)\n",
    "result = neigh.predict(feature)"
   ]
  },
  {
   "cell_type": "code",
   "execution_count": null,
   "metadata": {},
   "outputs": [],
   "source": [
    "sub = pd.DataFrame({'0':test['id'],'1':result})\n",
    "sub.columns=['test_id','result']\n",
    "sub.replace({'﻿mhY5opF':'?mhY5opF4'},inplace=True) \n",
    "print(sub.head())\n",
    "sub.to_csv('../output/sen2vec_100replace.csv',index=False)"
   ]
  },
  {
   "cell_type": "raw",
   "metadata": {},
   "source": [
    "# TODO：label encode \n",
    "import lightgbm\n",
    "parameters = {}\n",
    "train_data = lightgbm.Dataset(X,label=y)\n",
    "\n",
    "model = lightgbm.train(parameters,\n",
    "                       train_data,\n",
    "                       num_boost_round=50,\n",
    "                       early_stopping_rounds=5)\n",
    "\n",
    "feature = test.drop(['id'],axis=1)\n",
    "result = model.predict(feature)\n",
    "\n",
    "---\n",
    "# time consuming\n",
    "from sklearn.ensemble import RandomForestClassifier\n",
    "clf = RandomForestClassifier(n_jobs = 3)\n",
    "clf.fit(X, y) \n",
    "\n",
    "feature = test.drop(['id'],axis=1)\n",
    "result = clf.predict(feature)"
   ]
  }
 ],
 "metadata": {
  "kernelspec": {
   "display_name": "Python 3",
   "language": "python",
   "name": "python3"
  },
  "language_info": {
   "codemirror_mode": {
    "name": "ipython",
    "version": 3
   },
   "file_extension": ".py",
   "mimetype": "text/x-python",
   "name": "python",
   "nbconvert_exporter": "python",
   "pygments_lexer": "ipython3",
   "version": "3.6.4"
  }
 },
 "nbformat": 4,
 "nbformat_minor": 2
}
