{
 "cells": [
  {
   "cell_type": "code",
   "execution_count": 14,
   "metadata": {},
   "outputs": [],
   "source": [
    "import pandas as pd\n",
    "import seaborn as sns"
   ]
  },
  {
   "cell_type": "code",
   "execution_count": 15,
   "metadata": {},
   "outputs": [],
   "source": [
    "data = pd.read_csv('../feature/data_cutted.csv')"
   ]
  },
  {
   "cell_type": "code",
   "execution_count": 16,
   "metadata": {},
   "outputs": [
    {
     "data": {
      "text/html": [
       "<div>\n",
       "<style scoped>\n",
       "    .dataframe tbody tr th:only-of-type {\n",
       "        vertical-align: middle;\n",
       "    }\n",
       "\n",
       "    .dataframe tbody tr th {\n",
       "        vertical-align: top;\n",
       "    }\n",
       "\n",
       "    .dataframe thead th {\n",
       "        text-align: right;\n",
       "    }\n",
       "</style>\n",
       "<table border=\"1\" class=\"dataframe\">\n",
       "  <thead>\n",
       "    <tr style=\"text-align: right;\">\n",
       "      <th></th>\n",
       "      <th>id</th>\n",
       "      <th>content</th>\n",
       "      <th>source</th>\n",
       "      <th>length</th>\n",
       "    </tr>\n",
       "  </thead>\n",
       "  <tbody>\n",
       "    <tr>\n",
       "      <th>0</th>\n",
       "      <td>yhM4ivIm</td>\n",
       "      <td>ft ir 产物 结构 进行 分析 扫描电镜 查看 喷洒 抑尘剂 煤粉 固化 表面 形貌</td>\n",
       "      <td>train</td>\n",
       "      <td>43</td>\n",
       "    </tr>\n",
       "    <tr>\n",
       "      <th>1</th>\n",
       "      <td>OeJidjGX</td>\n",
       "      <td>方法 利用 硅胶 ods 及大孔 树脂 hp 多种 色谱 方法 对密 花石 豆兰 乙醇 提取...</td>\n",
       "      <td>train</td>\n",
       "      <td>67</td>\n",
       "    </tr>\n",
       "    <tr>\n",
       "      <th>2</th>\n",
       "      <td>4wWp3dGK</td>\n",
       "      <td>聚烯烃 技术 快速 发展 市场占有率 不断 提高 关键 科学技术 发展 引起 学术界 产业界...</td>\n",
       "      <td>train</td>\n",
       "      <td>49</td>\n",
       "    </tr>\n",
       "    <tr>\n",
       "      <th>3</th>\n",
       "      <td>T0senQto</td>\n",
       "      <td>猪脑 心肌炎 病毒 emcv gxlc 基因组 序列 设计 一对 特异性 引物 应用 rt...</td>\n",
       "      <td>train</td>\n",
       "      <td>116</td>\n",
       "    </tr>\n",
       "    <tr>\n",
       "      <th>4</th>\n",
       "      <td>1jAboq7C</td>\n",
       "      <td>结果表明 实生苗 造林 萌芽 更新 杉木 林分 树高 胸径 材积 生长 插条 造林 实生苗 ...</td>\n",
       "      <td>train</td>\n",
       "      <td>73</td>\n",
       "    </tr>\n",
       "  </tbody>\n",
       "</table>\n",
       "</div>"
      ],
      "text/plain": [
       "         id                                            content source  length\n",
       "0  yhM4ivIm       ft ir 产物 结构 进行 分析 扫描电镜 查看 喷洒 抑尘剂 煤粉 固化 表面 形貌  train      43\n",
       "1  OeJidjGX  方法 利用 硅胶 ods 及大孔 树脂 hp 多种 色谱 方法 对密 花石 豆兰 乙醇 提取...  train      67\n",
       "2  4wWp3dGK  聚烯烃 技术 快速 发展 市场占有率 不断 提高 关键 科学技术 发展 引起 学术界 产业界...  train      49\n",
       "3  T0senQto   猪脑 心肌炎 病毒 emcv gxlc 基因组 序列 设计 一对 特异性 引物 应用 rt...  train     116\n",
       "4  1jAboq7C  结果表明 实生苗 造林 萌芽 更新 杉木 林分 树高 胸径 材积 生长 插条 造林 实生苗 ...  train      73"
      ]
     },
     "execution_count": 16,
     "metadata": {},
     "output_type": "execute_result"
    }
   ],
   "source": [
    "data.head()"
   ]
  },
  {
   "cell_type": "code",
   "execution_count": 28,
   "metadata": {},
   "outputs": [
    {
     "name": "stderr",
     "output_type": "stream",
     "text": [
      "/Users/zhoujingjing/anaconda3/lib/python3.6/site-packages/matplotlib/axes/_axes.py:6462: UserWarning: The 'normed' kwarg is deprecated, and has been replaced by the 'density' kwarg.\n",
      "  warnings.warn(\"The 'normed' kwarg is deprecated, and has been \"\n"
     ]
    },
    {
     "data": {
      "text/plain": [
       "<matplotlib.axes._subplots.AxesSubplot at 0x1a14417048>"
      ]
     },
     "execution_count": 28,
     "metadata": {},
     "output_type": "execute_result"
    },
    {
     "data": {
      "image/png": "[encoded data removed]",
      "text/plain": [
       "<Figure size 432x288 with 1 Axes>"
      ]
     },
     "metadata": {},
     "output_type": "display_data"
    }
   ],
   "source": [
    "sns.distplot(data[data['source']=='train']['length'])"
   ]
  },
  {
   "cell_type": "code",
   "execution_count": 27,
   "metadata": {},
   "outputs": [
    {
     "name": "stderr",
     "output_type": "stream",
     "text": [
      "/Users/zhoujingjing/anaconda3/lib/python3.6/site-packages/matplotlib/axes/_axes.py:6462: UserWarning: The 'normed' kwarg is deprecated, and has been replaced by the 'density' kwarg.\n",
      "  warnings.warn(\"The 'normed' kwarg is deprecated, and has been \"\n"
     ]
    },
    {
     "data": {
      "text/plain": [
       "<matplotlib.axes._subplots.AxesSubplot at 0x1a144f2390>"
      ]
     },
     "execution_count": 27,
     "metadata": {},
     "output_type": "execute_result"
    },
    {
     "data": {
      "image/png": "[encoded data removed]",
      "text/plain": [
       "<Figure size 432x288 with 1 Axes>"
      ]
     },
     "metadata": {},
     "output_type": "display_data"
    }
   ],
   "source": [
    "sns.distplot(data[data['source']=='test']['length'])"
   ]
  },
  {
   "cell_type": "code",
   "execution_count": 29,
   "metadata": {},
   "outputs": [
    {
     "name": "stderr",
     "output_type": "stream",
     "text": [
      "/Users/zhoujingjing/anaconda3/lib/python3.6/site-packages/matplotlib/axes/_axes.py:6462: UserWarning: The 'normed' kwarg is deprecated, and has been replaced by the 'density' kwarg.\n",
      "  warnings.warn(\"The 'normed' kwarg is deprecated, and has been \"\n"
     ]
    },
    {
     "data": {
      "text/plain": [
       "<matplotlib.axes._subplots.AxesSubplot at 0x1a149b3400>"
      ]
     },
     "execution_count": 29,
     "metadata": {},
     "output_type": "execute_result"
    },
    {
     "data": {
      "image/png": "[encoded data removed]",
      "text/plain": [
       "<Figure size 432x288 with 1 Axes>"
      ]
     },
     "metadata": {},
     "output_type": "display_data"
    }
   ],
   "source": [
    "sns.distplot(data['length'])"
   ]
  },
  {
   "cell_type": "markdown",
   "metadata": {},
   "source": [
    "---"
   ]
  },
  {
   "cell_type": "code",
   "execution_count": 50,
   "metadata": {},
   "outputs": [],
   "source": [
    "result_p = pd.read_csv('../output/comb_freq_threshold50.csv')\n",
    "result_r = pd.read_csv('../output/comb_3all.csv')"
   ]
  },
  {
   "cell_type": "code",
   "execution_count": 51,
   "metadata": {},
   "outputs": [
    {
     "data": {
      "text/html": [
       "<div>\n",
       "<style scoped>\n",
       "    .dataframe tbody tr th:only-of-type {\n",
       "        vertical-align: middle;\n",
       "    }\n",
       "\n",
       "    .dataframe tbody tr th {\n",
       "        vertical-align: top;\n",
       "    }\n",
       "\n",
       "    .dataframe thead th {\n",
       "        text-align: right;\n",
       "    }\n",
       "</style>\n",
       "<table border=\"1\" class=\"dataframe\">\n",
       "  <thead>\n",
       "    <tr style=\"text-align: right;\">\n",
       "      <th></th>\n",
       "      <th>test_id</th>\n",
       "      <th>result</th>\n",
       "    </tr>\n",
       "  </thead>\n",
       "  <tbody>\n",
       "    <tr>\n",
       "      <th>0</th>\n",
       "      <td>ahpq2Zzn</td>\n",
       "      <td>NaN</td>\n",
       "    </tr>\n",
       "    <tr>\n",
       "      <th>1</th>\n",
       "      <td>p2Hkot4E</td>\n",
       "      <td>NaN</td>\n",
       "    </tr>\n",
       "    <tr>\n",
       "      <th>2</th>\n",
       "      <td>6pEJaYSB</td>\n",
       "      <td>NaN</td>\n",
       "    </tr>\n",
       "    <tr>\n",
       "      <th>3</th>\n",
       "      <td>fEClIHUb</td>\n",
       "      <td>NaN</td>\n",
       "    </tr>\n",
       "    <tr>\n",
       "      <th>4</th>\n",
       "      <td>QORyZCX6</td>\n",
       "      <td>NaN</td>\n",
       "    </tr>\n",
       "  </tbody>\n",
       "</table>\n",
       "</div>"
      ],
      "text/plain": [
       "    test_id result\n",
       "0  ahpq2Zzn    NaN\n",
       "1  p2Hkot4E    NaN\n",
       "2  6pEJaYSB    NaN\n",
       "3  fEClIHUb    NaN\n",
       "4  QORyZCX6    NaN"
      ]
     },
     "execution_count": 51,
     "metadata": {},
     "output_type": "execute_result"
    }
   ],
   "source": [
    "result_p.head()"
   ]
  },
  {
   "cell_type": "code",
   "execution_count": 52,
   "metadata": {},
   "outputs": [],
   "source": [
    "result_p.rename(columns = {'result':'id'},inplace=True)\n",
    "result_p = result_p.merge(data)"
   ]
  },
  {
   "cell_type": "code",
   "execution_count": 53,
   "metadata": {},
   "outputs": [
    {
     "data": {
      "text/html": [
       "<div>\n",
       "<style scoped>\n",
       "    .dataframe tbody tr th:only-of-type {\n",
       "        vertical-align: middle;\n",
       "    }\n",
       "\n",
       "    .dataframe tbody tr th {\n",
       "        vertical-align: top;\n",
       "    }\n",
       "\n",
       "    .dataframe thead th {\n",
       "        text-align: right;\n",
       "    }\n",
       "</style>\n",
       "<table border=\"1\" class=\"dataframe\">\n",
       "  <thead>\n",
       "    <tr style=\"text-align: right;\">\n",
       "      <th></th>\n",
       "      <th>test_id</th>\n",
       "      <th>id</th>\n",
       "      <th>content</th>\n",
       "      <th>source</th>\n",
       "      <th>length</th>\n",
       "    </tr>\n",
       "  </thead>\n",
       "  <tbody>\n",
       "    <tr>\n",
       "      <th>0</th>\n",
       "      <td>7wxcWGmE</td>\n",
       "      <td>GWclAbkS</td>\n",
       "      <td>数据中心 采用 多点 等值 方案 降低 节点 阻抗 矩阵 规模 提高 整定 计算 速度</td>\n",
       "      <td>train</td>\n",
       "      <td>37</td>\n",
       "    </tr>\n",
       "    <tr>\n",
       "      <th>1</th>\n",
       "      <td>03pcT2Nl</td>\n",
       "      <td>3f8AOLpF</td>\n",
       "      <td>认识 当前 生态 文化 现状 追踪 研究 热点 动态 把握 研究 领域 之间 结构 关系 ...</td>\n",
       "      <td>train</td>\n",
       "      <td>226</td>\n",
       "    </tr>\n",
       "    <tr>\n",
       "      <th>2</th>\n",
       "      <td>AzivbH8l</td>\n",
       "      <td>j8F36bVT</td>\n",
       "      <td>近三年 计算 一词 国内 it 领域 可谓 铺天盖地 热闹非凡</td>\n",
       "      <td>train</td>\n",
       "      <td>31</td>\n",
       "    </tr>\n",
       "    <tr>\n",
       "      <th>3</th>\n",
       "      <td>denCAQ2O</td>\n",
       "      <td>OPsSpm7v</td>\n",
       "      <td>概率 度量 水平 多重 决策树 进行 线性组合 融合 算法 采用 粒子 算法 优化 连接 ...</td>\n",
       "      <td>train</td>\n",
       "      <td>45</td>\n",
       "    </tr>\n",
       "    <tr>\n",
       "      <th>4</th>\n",
       "      <td>WesjbmP7</td>\n",
       "      <td>rlBOK1As</td>\n",
       "      <td>搜索 策略 解决 传统 人工智能 问题 有效 方法 该文 使用 状态 空间 表示 方法 搜...</td>\n",
       "      <td>train</td>\n",
       "      <td>112</td>\n",
       "    </tr>\n",
       "  </tbody>\n",
       "</table>\n",
       "</div>"
      ],
      "text/plain": [
       "    test_id        id                                            content  \\\n",
       "0  7wxcWGmE  GWclAbkS        数据中心 采用 多点 等值 方案 降低 节点 阻抗 矩阵 规模 提高 整定 计算 速度   \n",
       "1  03pcT2Nl  3f8AOLpF   认识 当前 生态 文化 现状 追踪 研究 热点 动态 把握 研究 领域 之间 结构 关系 ...   \n",
       "2  AzivbH8l  j8F36bVT                    近三年 计算 一词 国内 it 领域 可谓 铺天盖地 热闹非凡   \n",
       "3  denCAQ2O  OPsSpm7v   概率 度量 水平 多重 决策树 进行 线性组合 融合 算法 采用 粒子 算法 优化 连接 ...   \n",
       "4  WesjbmP7  rlBOK1As   搜索 策略 解决 传统 人工智能 问题 有效 方法 该文 使用 状态 空间 表示 方法 搜...   \n",
       "\n",
       "  source  length  \n",
       "0  train      37  \n",
       "1  train     226  \n",
       "2  train      31  \n",
       "3  train      45  \n",
       "4  train     112  "
      ]
     },
     "execution_count": 53,
     "metadata": {},
     "output_type": "execute_result"
    }
   ],
   "source": [
    "result_p.head()"
   ]
  },
  {
   "cell_type": "code",
   "execution_count": 54,
   "metadata": {},
   "outputs": [],
   "source": [
    "result_p.rename(columns = {'id':'result','test_id':'id','content':'result_content','length':'result_length'},inplace=True)"
   ]
  },
  {
   "cell_type": "code",
   "execution_count": 67,
   "metadata": {},
   "outputs": [],
   "source": [
    "result_p = result_p.merge(data,on='id')"
   ]
  },
  {
   "cell_type": "code",
   "execution_count": 68,
   "metadata": {},
   "outputs": [
    {
     "data": {
      "text/html": [
       "<div>\n",
       "<style scoped>\n",
       "    .dataframe tbody tr th:only-of-type {\n",
       "        vertical-align: middle;\n",
       "    }\n",
       "\n",
       "    .dataframe tbody tr th {\n",
       "        vertical-align: top;\n",
       "    }\n",
       "\n",
       "    .dataframe thead th {\n",
       "        text-align: right;\n",
       "    }\n",
       "</style>\n",
       "<table border=\"1\" class=\"dataframe\">\n",
       "  <thead>\n",
       "    <tr style=\"text-align: right;\">\n",
       "      <th></th>\n",
       "      <th>id</th>\n",
       "      <th>result</th>\n",
       "      <th>result_content</th>\n",
       "      <th>source_x</th>\n",
       "      <th>result_length</th>\n",
       "      <th>content</th>\n",
       "      <th>source_y</th>\n",
       "      <th>length</th>\n",
       "    </tr>\n",
       "  </thead>\n",
       "  <tbody>\n",
       "    <tr>\n",
       "      <th>0</th>\n",
       "      <td>7wxcWGmE</td>\n",
       "      <td>GWclAbkS</td>\n",
       "      <td>数据中心 采用 多点 等值 方案 降低 节点 阻抗 矩阵 规模 提高 整定 计算 速度</td>\n",
       "      <td>train</td>\n",
       "      <td>37</td>\n",
       "      <td>采用 多点 等值 方案 降低 节点 阻抗 矩阵 规模 数据中心 提高 整定 计算 速度</td>\n",
       "      <td>test</td>\n",
       "      <td>34</td>\n",
       "    </tr>\n",
       "    <tr>\n",
       "      <th>1</th>\n",
       "      <td>03pcT2Nl</td>\n",
       "      <td>3f8AOLpF</td>\n",
       "      <td>认识 当前 生态 文化 现状 追踪 研究 热点 动态 把握 研究 领域 之间 结构 关系 ...</td>\n",
       "      <td>train</td>\n",
       "      <td>226</td>\n",
       "      <td>认识 当前 生态 文化 现状 追踪 研究 热点 动态 把握 研究 领域 之间 结构 关系 最...</td>\n",
       "      <td>test</td>\n",
       "      <td>229</td>\n",
       "    </tr>\n",
       "    <tr>\n",
       "      <th>2</th>\n",
       "      <td>AzivbH8l</td>\n",
       "      <td>j8F36bVT</td>\n",
       "      <td>近三年 计算 一词 国内 it 领域 可谓 铺天盖地 热闹非凡</td>\n",
       "      <td>train</td>\n",
       "      <td>31</td>\n",
       "      <td>近三年 国内 it 领域 铺天盖地 热闹非凡 可谓 计算</td>\n",
       "      <td>test</td>\n",
       "      <td>30</td>\n",
       "    </tr>\n",
       "    <tr>\n",
       "      <th>3</th>\n",
       "      <td>denCAQ2O</td>\n",
       "      <td>OPsSpm7v</td>\n",
       "      <td>概率 度量 水平 多重 决策树 进行 线性组合 融合 算法 采用 粒子 算法 优化 连接 ...</td>\n",
       "      <td>train</td>\n",
       "      <td>45</td>\n",
       "      <td>概率 度量 水平 多重 决策树 进行 线性组合 融合 算法 使用 粒子 算法 优化 连接 ...</td>\n",
       "      <td>test</td>\n",
       "      <td>48</td>\n",
       "    </tr>\n",
       "    <tr>\n",
       "      <th>4</th>\n",
       "      <td>WesjbmP7</td>\n",
       "      <td>rlBOK1As</td>\n",
       "      <td>搜索 策略 解决 传统 人工智能 问题 有效 方法 该文 使用 状态 空间 表示 方法 搜...</td>\n",
       "      <td>train</td>\n",
       "      <td>112</td>\n",
       "      <td>解决 传统 人工智能 问题 有效 方法 有图 搜索 策略 本文 旨在 解决 数独 问题 su...</td>\n",
       "      <td>test</td>\n",
       "      <td>108</td>\n",
       "    </tr>\n",
       "  </tbody>\n",
       "</table>\n",
       "</div>"
      ],
      "text/plain": [
       "         id    result                                     result_content  \\\n",
       "0  7wxcWGmE  GWclAbkS        数据中心 采用 多点 等值 方案 降低 节点 阻抗 矩阵 规模 提高 整定 计算 速度   \n",
       "1  03pcT2Nl  3f8AOLpF   认识 当前 生态 文化 现状 追踪 研究 热点 动态 把握 研究 领域 之间 结构 关系 ...   \n",
       "2  AzivbH8l  j8F36bVT                    近三年 计算 一词 国内 it 领域 可谓 铺天盖地 热闹非凡   \n",
       "3  denCAQ2O  OPsSpm7v   概率 度量 水平 多重 决策树 进行 线性组合 融合 算法 采用 粒子 算法 优化 连接 ...   \n",
       "4  WesjbmP7  rlBOK1As   搜索 策略 解决 传统 人工智能 问题 有效 方法 该文 使用 状态 空间 表示 方法 搜...   \n",
       "\n",
       "  source_x  result_length                                            content  \\\n",
       "0    train             37        采用 多点 等值 方案 降低 节点 阻抗 矩阵 规模 数据中心 提高 整定 计算 速度   \n",
       "1    train            226  认识 当前 生态 文化 现状 追踪 研究 热点 动态 把握 研究 领域 之间 结构 关系 最...   \n",
       "2    train             31                       近三年 国内 it 领域 铺天盖地 热闹非凡 可谓 计算   \n",
       "3    train             45   概率 度量 水平 多重 决策树 进行 线性组合 融合 算法 使用 粒子 算法 优化 连接 ...   \n",
       "4    train            112  解决 传统 人工智能 问题 有效 方法 有图 搜索 策略 本文 旨在 解决 数独 问题 su...   \n",
       "\n",
       "  source_y  length  \n",
       "0     test      34  \n",
       "1     test     229  \n",
       "2     test      30  \n",
       "3     test      48  \n",
       "4     test     108  "
      ]
     },
     "execution_count": 68,
     "metadata": {},
     "output_type": "execute_result"
    }
   ],
   "source": [
    "result_p.head()"
   ]
  },
  {
   "cell_type": "code",
   "execution_count": 70,
   "metadata": {},
   "outputs": [
    {
     "data": {
      "text/html": [
       "<div>\n",
       "<style scoped>\n",
       "    .dataframe tbody tr th:only-of-type {\n",
       "        vertical-align: middle;\n",
       "    }\n",
       "\n",
       "    .dataframe tbody tr th {\n",
       "        vertical-align: top;\n",
       "    }\n",
       "\n",
       "    .dataframe thead th {\n",
       "        text-align: right;\n",
       "    }\n",
       "</style>\n",
       "<table border=\"1\" class=\"dataframe\">\n",
       "  <thead>\n",
       "    <tr style=\"text-align: right;\">\n",
       "      <th></th>\n",
       "      <th>id</th>\n",
       "      <th>result</th>\n",
       "      <th>result_content</th>\n",
       "      <th>source_x</th>\n",
       "      <th>result_length</th>\n",
       "      <th>content</th>\n",
       "      <th>source_y</th>\n",
       "      <th>length</th>\n",
       "    </tr>\n",
       "  </thead>\n",
       "  <tbody>\n",
       "    <tr>\n",
       "      <th>387</th>\n",
       "      <td>XQAhEuYL</td>\n",
       "      <td>pzdxeyEt</td>\n",
       "      <td>陶瓷 设计 美是 自然 科学 结合 以人为本 人性化 前提 智慧 结晶</td>\n",
       "      <td>train</td>\n",
       "      <td>35</td>\n",
       "      <td>陶瓷产品 以人为本 人性化 设计 智慧 结晶 陶瓷 设计 美是 科学 自然 结合</td>\n",
       "      <td>test</td>\n",
       "      <td>38</td>\n",
       "    </tr>\n",
       "    <tr>\n",
       "      <th>388</th>\n",
       "      <td>ungIRJde</td>\n",
       "      <td>iEZtMqav</td>\n",
       "      <td>计算技术 商用 领域 已经 取得 巨大 成功 军事 领域 处于 探索 之中 没有 合适 体...</td>\n",
       "      <td>train</td>\n",
       "      <td>48</td>\n",
       "      <td>商用 领域 计算技术 已经 取得 很大 胜利 计算技术 军事 领域 没有 提出 合适 体系...</td>\n",
       "      <td>test</td>\n",
       "      <td>56</td>\n",
       "    </tr>\n",
       "    <tr>\n",
       "      <th>389</th>\n",
       "      <td>QDsMfRYF</td>\n",
       "      <td>xtWRnvB2</td>\n",
       "      <td>目的 建立 病人 中心 服务 临床 影像 诊断 新型 流程 信息流 代替 病人 方便 病人 ...</td>\n",
       "      <td>train</td>\n",
       "      <td>55</td>\n",
       "      <td>主要 目的 构建 影像 诊断 新型 流程 信息流 代替 病人 做到 病人 中心 服务 临床...</td>\n",
       "      <td>test</td>\n",
       "      <td>67</td>\n",
       "    </tr>\n",
       "    <tr>\n",
       "      <th>390</th>\n",
       "      <td>svb7Q04E</td>\n",
       "      <td>sLhAzWZr</td>\n",
       "      <td>本文 研究 我国 纳米 生物制药 技术 国际 地位 实力 分布 情况 认为 利用 产学研 合...</td>\n",
       "      <td>train</td>\n",
       "      <td>86</td>\n",
       "      <td>本文 介绍 我国 纳米 生物制药 技术 国际 地位 实力 分布 情况 认为 实现 企业 大学...</td>\n",
       "      <td>test</td>\n",
       "      <td>93</td>\n",
       "    </tr>\n",
       "    <tr>\n",
       "      <th>391</th>\n",
       "      <td>V9kW7qMy</td>\n",
       "      <td>9WZIrFtG</td>\n",
       "      <td>很多 情况 电缆 却是 系统 生命线</td>\n",
       "      <td>train</td>\n",
       "      <td>18</td>\n",
       "      <td>很多 情况 系统 关键 生命线 却是 电缆</td>\n",
       "      <td>test</td>\n",
       "      <td>26</td>\n",
       "    </tr>\n",
       "  </tbody>\n",
       "</table>\n",
       "</div>"
      ],
      "text/plain": [
       "           id    result                                     result_content  \\\n",
       "387  XQAhEuYL  pzdxeyEt                陶瓷 设计 美是 自然 科学 结合 以人为本 人性化 前提 智慧 结晶   \n",
       "388  ungIRJde  iEZtMqav   计算技术 商用 领域 已经 取得 巨大 成功 军事 领域 处于 探索 之中 没有 合适 体...   \n",
       "389  QDsMfRYF  xtWRnvB2  目的 建立 病人 中心 服务 临床 影像 诊断 新型 流程 信息流 代替 病人 方便 病人 ...   \n",
       "390  svb7Q04E  sLhAzWZr  本文 研究 我国 纳米 生物制药 技术 国际 地位 实力 分布 情况 认为 利用 产学研 合...   \n",
       "391  V9kW7qMy  9WZIrFtG                                 很多 情况 电缆 却是 系统 生命线   \n",
       "\n",
       "    source_x  result_length  \\\n",
       "387    train             35   \n",
       "388    train             48   \n",
       "389    train             55   \n",
       "390    train             86   \n",
       "391    train             18   \n",
       "\n",
       "                                               content source_y  length  \n",
       "387           陶瓷产品 以人为本 人性化 设计 智慧 结晶 陶瓷 设计 美是 科学 自然 结合     test      38  \n",
       "388   商用 领域 计算技术 已经 取得 很大 胜利 计算技术 军事 领域 没有 提出 合适 体系...     test      56  \n",
       "389   主要 目的 构建 影像 诊断 新型 流程 信息流 代替 病人 做到 病人 中心 服务 临床...     test      67  \n",
       "390  本文 介绍 我国 纳米 生物制药 技术 国际 地位 实力 分布 情况 认为 实现 企业 大学...     test      93  \n",
       "391                              很多 情况 系统 关键 生命线 却是 电缆     test      26  "
      ]
     },
     "execution_count": 70,
     "metadata": {},
     "output_type": "execute_result"
    }
   ],
   "source": [
    "result_p.tail()"
   ]
  },
  {
   "cell_type": "code",
   "execution_count": 75,
   "metadata": {},
   "outputs": [],
   "source": [
    "result_p['length_rate'] = result_p['result_length']/result_p['length']"
   ]
  },
  {
   "cell_type": "code",
   "execution_count": 77,
   "metadata": {},
   "outputs": [
    {
     "data": {
      "text/html": [
       "<div>\n",
       "<style scoped>\n",
       "    .dataframe tbody tr th:only-of-type {\n",
       "        vertical-align: middle;\n",
       "    }\n",
       "\n",
       "    .dataframe tbody tr th {\n",
       "        vertical-align: top;\n",
       "    }\n",
       "\n",
       "    .dataframe thead th {\n",
       "        text-align: right;\n",
       "    }\n",
       "</style>\n",
       "<table border=\"1\" class=\"dataframe\">\n",
       "  <thead>\n",
       "    <tr style=\"text-align: right;\">\n",
       "      <th></th>\n",
       "      <th>id</th>\n",
       "      <th>result</th>\n",
       "      <th>result_content</th>\n",
       "      <th>source_x</th>\n",
       "      <th>result_length</th>\n",
       "      <th>content</th>\n",
       "      <th>source_y</th>\n",
       "      <th>length</th>\n",
       "      <th>length_rate</th>\n",
       "    </tr>\n",
       "  </thead>\n",
       "  <tbody>\n",
       "    <tr>\n",
       "      <th>309</th>\n",
       "      <td>3SBHY5jO</td>\n",
       "      <td>iGcufsxI</td>\n",
       "      <td>目前 国内 河流 湖泊 底泥 重金属 研究 偏重于 重金属 分布 污染 特征 重金属 生物 ...</td>\n",
       "      <td>train</td>\n",
       "      <td>63</td>\n",
       "      <td>现有 研究 很少 底泥 重金属 治理 方法 集中 重金属 生态 影响 分布 污染 特性</td>\n",
       "      <td>test</td>\n",
       "      <td>42</td>\n",
       "      <td>1.5</td>\n",
       "    </tr>\n",
       "  </tbody>\n",
       "</table>\n",
       "</div>"
      ],
      "text/plain": [
       "           id    result                                     result_content  \\\n",
       "309  3SBHY5jO  iGcufsxI  目前 国内 河流 湖泊 底泥 重金属 研究 偏重于 重金属 分布 污染 特征 重金属 生物 ...   \n",
       "\n",
       "    source_x  result_length                                      content  \\\n",
       "309    train             63  现有 研究 很少 底泥 重金属 治理 方法 集中 重金属 生态 影响 分布 污染 特性   \n",
       "\n",
       "    source_y  length  length_rate  \n",
       "309     test      42          1.5  "
      ]
     },
     "execution_count": 77,
     "metadata": {},
     "output_type": "execute_result"
    }
   ],
   "source": [
    "result_p[result_p['length_rate'] == result_p['length_rate'].max()]"
   ]
  },
  {
   "cell_type": "code",
   "execution_count": null,
   "metadata": {},
   "outputs": [],
   "source": []
  }
 ],
 "metadata": {
  "kernelspec": {
   "display_name": "Python 3",
   "language": "python",
   "name": "python3"
  },
  "language_info": {
   "codemirror_mode": {
    "name": "ipython",
    "version": 3
   },
   "file_extension": ".py",
   "mimetype": "text/x-python",
   "name": "python",
   "nbconvert_exporter": "python",
   "pygments_lexer": "ipython3",
   "version": "3.6.5"
  }
 },
 "nbformat": 4,
 "nbformat_minor": 2
}
