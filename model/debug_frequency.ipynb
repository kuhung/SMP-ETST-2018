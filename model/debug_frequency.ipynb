{
 "cells": [
  {
   "cell_type": "code",
   "execution_count": 1,
   "metadata": {},
   "outputs": [],
   "source": [
    "import pandas as pd\n",
    "from collections import Counter"
   ]
  },
  {
   "cell_type": "code",
   "execution_count": 2,
   "metadata": {},
   "outputs": [],
   "source": [
    "data = pd.read_csv('../feature/data_cutted.csv')"
   ]
  },
  {
   "cell_type": "code",
   "execution_count": 3,
   "metadata": {},
   "outputs": [
    {
     "data": {
      "text/html": [
       "<div>\n",
       "<style>\n",
       "    .dataframe thead tr:only-child th {\n",
       "        text-align: right;\n",
       "    }\n",
       "\n",
       "    .dataframe thead th {\n",
       "        text-align: left;\n",
       "    }\n",
       "\n",
       "    .dataframe tbody tr th {\n",
       "        vertical-align: top;\n",
       "    }\n",
       "</style>\n",
       "<table border=\"1\" class=\"dataframe\">\n",
       "  <thead>\n",
       "    <tr style=\"text-align: right;\">\n",
       "      <th></th>\n",
       "      <th>id</th>\n",
       "      <th>content</th>\n",
       "      <th>source</th>\n",
       "    </tr>\n",
       "  </thead>\n",
       "  <tbody>\n",
       "    <tr>\n",
       "      <th>0</th>\n",
       "      <td>yhM4ivIm</td>\n",
       "      <td>ft ir 产物 结构 进行 分析 扫描电镜 查看 喷洒 抑尘剂 煤粉 固化 表面 形貌</td>\n",
       "      <td>train</td>\n",
       "    </tr>\n",
       "    <tr>\n",
       "      <th>1</th>\n",
       "      <td>OeJidjGX</td>\n",
       "      <td>方法 利用 硅胶 ods 及大孔 树脂 hp 多种 色谱 方法 对密 花石 豆兰 乙醇 提取...</td>\n",
       "      <td>train</td>\n",
       "    </tr>\n",
       "    <tr>\n",
       "      <th>2</th>\n",
       "      <td>4wWp3dGK</td>\n",
       "      <td>聚烯烃 技术 快速 发展 市场占有率 不断 提高 关键 科学技术 发展 引起 学术界 产业界...</td>\n",
       "      <td>train</td>\n",
       "    </tr>\n",
       "    <tr>\n",
       "      <th>3</th>\n",
       "      <td>T0senQto</td>\n",
       "      <td>猪脑 心肌炎 病毒 emcv gxlc 基因组 序列 设计 一对 特异性 引物 应用 rt...</td>\n",
       "      <td>train</td>\n",
       "    </tr>\n",
       "    <tr>\n",
       "      <th>4</th>\n",
       "      <td>1jAboq7C</td>\n",
       "      <td>结果表明 实生苗 造林 萌芽 更新 杉木 林分 树高 胸径 材积 生长 插条 造林 实生苗 ...</td>\n",
       "      <td>train</td>\n",
       "    </tr>\n",
       "  </tbody>\n",
       "</table>\n",
       "</div>"
      ],
      "text/plain": [
       "         id                                            content source\n",
       "0  yhM4ivIm       ft ir 产物 结构 进行 分析 扫描电镜 查看 喷洒 抑尘剂 煤粉 固化 表面 形貌  train\n",
       "1  OeJidjGX  方法 利用 硅胶 ods 及大孔 树脂 hp 多种 色谱 方法 对密 花石 豆兰 乙醇 提取...  train\n",
       "2  4wWp3dGK  聚烯烃 技术 快速 发展 市场占有率 不断 提高 关键 科学技术 发展 引起 学术界 产业界...  train\n",
       "3  T0senQto   猪脑 心肌炎 病毒 emcv gxlc 基因组 序列 设计 一对 特异性 引物 应用 rt...  train\n",
       "4  1jAboq7C  结果表明 实生苗 造林 萌芽 更新 杉木 林分 树高 胸径 材积 生长 插条 造林 实生苗 ...  train"
      ]
     },
     "execution_count": 3,
     "metadata": {},
     "output_type": "execute_result"
    }
   ],
   "source": [
    "data.head()"
   ]
  },
  {
   "cell_type": "code",
   "execution_count": 4,
   "metadata": {},
   "outputs": [],
   "source": [
    "from sklearn import preprocessing\n",
    "le = preprocessing.LabelEncoder()\n",
    "data['id'] = le.fit_transform(data['id'])\n",
    "\n",
    "#list(le.inverse_transform([2, 2, 1]))"
   ]
  },
  {
   "cell_type": "code",
   "execution_count": 5,
   "metadata": {},
   "outputs": [
    {
     "data": {
      "text/html": [
       "<div>\n",
       "<style>\n",
       "    .dataframe thead tr:only-child th {\n",
       "        text-align: right;\n",
       "    }\n",
       "\n",
       "    .dataframe thead th {\n",
       "        text-align: left;\n",
       "    }\n",
       "\n",
       "    .dataframe tbody tr th {\n",
       "        vertical-align: top;\n",
       "    }\n",
       "</style>\n",
       "<table border=\"1\" class=\"dataframe\">\n",
       "  <thead>\n",
       "    <tr style=\"text-align: right;\">\n",
       "      <th></th>\n",
       "      <th>id</th>\n",
       "      <th>content</th>\n",
       "      <th>source</th>\n",
       "    </tr>\n",
       "  </thead>\n",
       "  <tbody>\n",
       "    <tr>\n",
       "      <th>0</th>\n",
       "      <td>98495</td>\n",
       "      <td>ft ir 产物 结构 进行 分析 扫描电镜 查看 喷洒 抑尘剂 煤粉 固化 表面 形貌</td>\n",
       "      <td>train</td>\n",
       "    </tr>\n",
       "    <tr>\n",
       "      <th>1</th>\n",
       "      <td>40279</td>\n",
       "      <td>方法 利用 硅胶 ods 及大孔 树脂 hp 多种 色谱 方法 对密 花石 豆兰 乙醇 提取...</td>\n",
       "      <td>train</td>\n",
       "    </tr>\n",
       "    <tr>\n",
       "      <th>2</th>\n",
       "      <td>8195</td>\n",
       "      <td>聚烯烃 技术 快速 发展 市场占有率 不断 提高 关键 科学技术 发展 引起 学术界 产业界...</td>\n",
       "      <td>train</td>\n",
       "    </tr>\n",
       "    <tr>\n",
       "      <th>3</th>\n",
       "      <td>47349</td>\n",
       "      <td>猪脑 心肌炎 病毒 emcv gxlc 基因组 序列 设计 一对 特异性 引物 应用 rt...</td>\n",
       "      <td>train</td>\n",
       "    </tr>\n",
       "    <tr>\n",
       "      <th>4</th>\n",
       "      <td>2839</td>\n",
       "      <td>结果表明 实生苗 造林 萌芽 更新 杉木 林分 树高 胸径 材积 生长 插条 造林 实生苗 ...</td>\n",
       "      <td>train</td>\n",
       "    </tr>\n",
       "  </tbody>\n",
       "</table>\n",
       "</div>"
      ],
      "text/plain": [
       "      id                                            content source\n",
       "0  98495       ft ir 产物 结构 进行 分析 扫描电镜 查看 喷洒 抑尘剂 煤粉 固化 表面 形貌  train\n",
       "1  40279  方法 利用 硅胶 ods 及大孔 树脂 hp 多种 色谱 方法 对密 花石 豆兰 乙醇 提取...  train\n",
       "2   8195  聚烯烃 技术 快速 发展 市场占有率 不断 提高 关键 科学技术 发展 引起 学术界 产业界...  train\n",
       "3  47349   猪脑 心肌炎 病毒 emcv gxlc 基因组 序列 设计 一对 特异性 引物 应用 rt...  train\n",
       "4   2839  结果表明 实生苗 造林 萌芽 更新 杉木 林分 树高 胸径 材积 生长 插条 造林 实生苗 ...  train"
      ]
     },
     "execution_count": 5,
     "metadata": {},
     "output_type": "execute_result"
    }
   ],
   "source": [
    "data.head()"
   ]
  },
  {
   "cell_type": "code",
   "execution_count": 6,
   "metadata": {},
   "outputs": [],
   "source": [
    "def get_words(txt):\n",
    "    c = Counter()  \n",
    "    for x in txt.split( ):  \n",
    "        if len(x)>1 and x != '\\r\\n':  \n",
    "            c[x] += 1\n",
    "    return c"
   ]
  },
  {
   "cell_type": "code",
   "execution_count": 7,
   "metadata": {},
   "outputs": [],
   "source": [
    "data['vector_content'] = data['content'].apply(lambda x: get_words(str(x)))"
   ]
  },
  {
   "cell_type": "code",
   "execution_count": 8,
   "metadata": {},
   "outputs": [
    {
     "data": {
      "text/html": [
       "<div>\n",
       "<style>\n",
       "    .dataframe thead tr:only-child th {\n",
       "        text-align: right;\n",
       "    }\n",
       "\n",
       "    .dataframe thead th {\n",
       "        text-align: left;\n",
       "    }\n",
       "\n",
       "    .dataframe tbody tr th {\n",
       "        vertical-align: top;\n",
       "    }\n",
       "</style>\n",
       "<table border=\"1\" class=\"dataframe\">\n",
       "  <thead>\n",
       "    <tr style=\"text-align: right;\">\n",
       "      <th></th>\n",
       "      <th>id</th>\n",
       "      <th>content</th>\n",
       "      <th>source</th>\n",
       "      <th>vector_content</th>\n",
       "    </tr>\n",
       "  </thead>\n",
       "  <tbody>\n",
       "    <tr>\n",
       "      <th>0</th>\n",
       "      <td>98495</td>\n",
       "      <td>ft ir 产物 结构 进行 分析 扫描电镜 查看 喷洒 抑尘剂 煤粉 固化 表面 形貌</td>\n",
       "      <td>train</td>\n",
       "      <td>{'ft': 1, 'ir': 1, '产物': 1, '结构': 1, '进行': 1, ...</td>\n",
       "    </tr>\n",
       "    <tr>\n",
       "      <th>1</th>\n",
       "      <td>40279</td>\n",
       "      <td>方法 利用 硅胶 ods 及大孔 树脂 hp 多种 色谱 方法 对密 花石 豆兰 乙醇 提取...</td>\n",
       "      <td>train</td>\n",
       "      <td>{'方法': 2, '利用': 1, '硅胶': 1, 'ods': 1, '及大孔': 1...</td>\n",
       "    </tr>\n",
       "    <tr>\n",
       "      <th>2</th>\n",
       "      <td>8195</td>\n",
       "      <td>聚烯烃 技术 快速 发展 市场占有率 不断 提高 关键 科学技术 发展 引起 学术界 产业界...</td>\n",
       "      <td>train</td>\n",
       "      <td>{'聚烯烃': 1, '技术': 1, '快速': 1, '发展': 2, '市场占有率':...</td>\n",
       "    </tr>\n",
       "    <tr>\n",
       "      <th>3</th>\n",
       "      <td>47349</td>\n",
       "      <td>猪脑 心肌炎 病毒 emcv gxlc 基因组 序列 设计 一对 特异性 引物 应用 rt...</td>\n",
       "      <td>train</td>\n",
       "      <td>{'猪脑': 1, '心肌炎': 1, '病毒': 1, 'emcv': 3, 'gxlc'...</td>\n",
       "    </tr>\n",
       "    <tr>\n",
       "      <th>4</th>\n",
       "      <td>2839</td>\n",
       "      <td>结果表明 实生苗 造林 萌芽 更新 杉木 林分 树高 胸径 材积 生长 插条 造林 实生苗 ...</td>\n",
       "      <td>train</td>\n",
       "      <td>{'结果表明': 1, '实生苗': 2, '造林': 3, '萌芽': 2, '更新': ...</td>\n",
       "    </tr>\n",
       "  </tbody>\n",
       "</table>\n",
       "</div>"
      ],
      "text/plain": [
       "      id                                            content source  \\\n",
       "0  98495       ft ir 产物 结构 进行 分析 扫描电镜 查看 喷洒 抑尘剂 煤粉 固化 表面 形貌  train   \n",
       "1  40279  方法 利用 硅胶 ods 及大孔 树脂 hp 多种 色谱 方法 对密 花石 豆兰 乙醇 提取...  train   \n",
       "2   8195  聚烯烃 技术 快速 发展 市场占有率 不断 提高 关键 科学技术 发展 引起 学术界 产业界...  train   \n",
       "3  47349   猪脑 心肌炎 病毒 emcv gxlc 基因组 序列 设计 一对 特异性 引物 应用 rt...  train   \n",
       "4   2839  结果表明 实生苗 造林 萌芽 更新 杉木 林分 树高 胸径 材积 生长 插条 造林 实生苗 ...  train   \n",
       "\n",
       "                                      vector_content  \n",
       "0  {'ft': 1, 'ir': 1, '产物': 1, '结构': 1, '进行': 1, ...  \n",
       "1  {'方法': 2, '利用': 1, '硅胶': 1, 'ods': 1, '及大孔': 1...  \n",
       "2  {'聚烯烃': 1, '技术': 1, '快速': 1, '发展': 2, '市场占有率':...  \n",
       "3  {'猪脑': 1, '心肌炎': 1, '病毒': 1, 'emcv': 3, 'gxlc'...  \n",
       "4  {'结果表明': 1, '实生苗': 2, '造林': 3, '萌芽': 2, '更新': ...  "
      ]
     },
     "execution_count": 8,
     "metadata": {},
     "output_type": "execute_result"
    }
   ],
   "source": [
    "data.head()"
   ]
  },
  {
   "cell_type": "code",
   "execution_count": 9,
   "metadata": {},
   "outputs": [],
   "source": [
    "def get_cosine_new(vec1, vec2):\n",
    "    try:\n",
    "        present_count = 0\n",
    "        total_count = 0\n",
    "        for word,count in vec1.items():\n",
    "            total_count += count\n",
    "            if word in vec2:\n",
    "                present_count += count\n",
    "        return present_count/max(total_count,1)\n",
    "    except:\n",
    "        return 0.0"
   ]
  },
  {
   "cell_type": "code",
   "execution_count": 10,
   "metadata": {},
   "outputs": [],
   "source": [
    "def find_relation(inp_df):\n",
    "    relation_df = []\n",
    "    train = inp_df.loc[data['source']=='train'].reset_index()\n",
    "    test = inp_df.loc[data['source']=='test'].reset_index()\n",
    "    \n",
    "    for i in range(len(test)):\n",
    "        #print (i)\n",
    "        for j in range(len(train)):\n",
    "            rel_df = dict()\n",
    "            try:\n",
    "                rel_df[\"cosine_abstract\"] = get_cosine_new(test['vector_content'][i],train['vector_content'][j])\n",
    "            except:\n",
    "                rel_df[\"cosine_abstract\"] = 0.0\n",
    "            \n",
    "            #print (rel_df)\n",
    "            if rel_df[\"cosine_abstract\"] > 0.0:\n",
    "                rel_df[\"id\"] = test[\"id\"][i]\n",
    "                rel_df[\"related_id\"] = train[\"id\"][j]\n",
    "                relation_df.append(rel_df)\n",
    "            else:\n",
    "                pass\n",
    "    final_df = pd.DataFrame(relation_df)\n",
    "    return final_df"
   ]
  },
  {
   "cell_type": "code",
   "execution_count": 20,
   "metadata": {},
   "outputs": [
    {
     "name": "stderr",
     "output_type": "stream",
     "text": [
      "C:\\Users\\kuhung\\AppData\\Roaming\\Python\\Python36\\site-packages\\ipykernel_launcher.py:4: SettingWithCopyWarning: \n",
      "A value is trying to be set on a copy of a slice from a DataFrame\n",
      "\n",
      "See the caveats in the documentation: http://pandas.pydata.org/pandas-docs/stable/indexing.html#indexing-view-versus-copy\n",
      "  after removing the cwd from sys.path.\n",
      "C:\\Users\\kuhung\\AppData\\Roaming\\Python\\Python36\\site-packages\\ipykernel_launcher.py:5: SettingWithCopyWarning: \n",
      "A value is trying to be set on a copy of a slice from a DataFrame\n",
      "\n",
      "See the caveats in the documentation: http://pandas.pydata.org/pandas-docs/stable/indexing.html#indexing-view-versus-copy\n",
      "  \"\"\"\n",
      "F:\\software\\Anaconda3\\lib\\site-packages\\pandas\\core\\frame.py:2746: SettingWithCopyWarning: \n",
      "A value is trying to be set on a copy of a slice from a DataFrame\n",
      "\n",
      "See the caveats in the documentation: http://pandas.pydata.org/pandas-docs/stable/indexing.html#indexing-view-versus-copy\n",
      "  **kwargs)\n"
     ]
    }
   ],
   "source": [
    "train = data.loc[data['source']=='train']\n",
    "test = data.loc[data['source']=='test']\n",
    "\n",
    "train.drop(['source','content'],axis=1,inplace=True)\n",
    "test.drop(['source'],axis=1,inplace=True)\n",
    "\n",
    "train.rename(columns = {'id':'related_id','vector_content':'train_vector'},inplace=True)\n",
    "test.rename(columns = {'content':'test_content'},inplace=True)"
   ]
  },
  {
   "cell_type": "code",
   "execution_count": 21,
   "metadata": {},
   "outputs": [],
   "source": [
    "from tqdm import *\n",
    "import numpy as np"
   ]
  },
  {
   "cell_type": "code",
   "execution_count": 40,
   "metadata": {},
   "outputs": [],
   "source": [
    "def get_compare_df(train,row_id,row_content):\n",
    "    temp = train.copy()\n",
    "    temp['id'] = row_id\n",
    "    temp['test_content'] = row_content\n",
    "    temp['test_vector'] = temp['test_content'].apply(lambda x: get_words(str(x)))\n",
    "    temp.drop('test_content',axis=1,inplace=True)\n",
    "    temp['cosine_abstract'] = temp.apply(lambda row:get_cosine_new(row['train_vector'],row['test_vector']),axis=1)     \n",
    "\n",
    "    print(temp.head())\n",
    "    return "
   ]
  },
  {
   "cell_type": "code",
   "execution_count": 41,
   "metadata": {
    "scrolled": true
   },
   "outputs": [
    {
     "name": "stderr",
     "output_type": "stream",
     "text": [
      "\r",
      "0it [00:00, ?it/s]"
     ]
    },
    {
     "name": "stdout",
     "output_type": "stream",
     "text": [
      "   related_id                                       train_vector     id  \\\n",
      "0       98495  {'ft': 1, 'ir': 1, '产物': 1, '结构': 1, '进行': 1, ...  59765   \n",
      "1       40279  {'方法': 2, '利用': 1, '硅胶': 1, 'ods': 1, '及大孔': 1...  59765   \n",
      "2        8195  {'聚烯烃': 1, '技术': 1, '快速': 1, '发展': 2, '市场占有率':...  59765   \n",
      "3       47349  {'猪脑': 1, '心肌炎': 1, '病毒': 1, 'emcv': 3, 'gxlc'...  59765   \n",
      "4        2839  {'结果表明': 1, '实生苗': 2, '造林': 3, '萌芽': 2, '更新': ...  59765   \n",
      "\n",
      "                                         test_vector  cosine_abstract  \n",
      "0  {'文中': 1, '介绍': 1, '工程': 1, '施工': 1, '管理': 1, ...              0.0  \n",
      "1  {'文中': 1, '介绍': 1, '工程': 1, '施工': 1, '管理': 1, ...              0.0  \n",
      "2  {'文中': 1, '介绍': 1, '工程': 1, '施工': 1, '管理': 1, ...              0.0  \n",
      "3  {'文中': 1, '介绍': 1, '工程': 1, '施工': 1, '管理': 1, ...              0.0  \n",
      "4  {'文中': 1, '介绍': 1, '工程': 1, '施工': 1, '管理': 1, ...              0.0  \n"
     ]
    },
    {
     "name": "stderr",
     "output_type": "stream",
     "text": [
      "\r",
      "1it [00:06,  6.26s/it]"
     ]
    },
    {
     "name": "stdout",
     "output_type": "stream",
     "text": [
      "   related_id                                       train_vector     id  \\\n",
      "0       98495  {'ft': 1, 'ir': 1, '产物': 1, '结构': 1, '进行': 1, ...  82902   \n",
      "1       40279  {'方法': 2, '利用': 1, '硅胶': 1, 'ods': 1, '及大孔': 1...  82902   \n",
      "2        8195  {'聚烯烃': 1, '技术': 1, '快速': 1, '发展': 2, '市场占有率':...  82902   \n",
      "3       47349  {'猪脑': 1, '心肌炎': 1, '病毒': 1, 'emcv': 3, 'gxlc'...  82902   \n",
      "4        2839  {'结果表明': 1, '实生苗': 2, '造林': 3, '萌芽': 2, '更新': ...  82902   \n",
      "\n",
      "                                         test_vector  cosine_abstract  \n",
      "0  {'文章': 1, '简要': 1, '介绍': 1, '目前': 1, '国内': 1, ...              0.0  \n",
      "1  {'文章': 1, '简要': 1, '介绍': 1, '目前': 1, '国内': 1, ...              0.0  \n",
      "2  {'文章': 1, '简要': 1, '介绍': 1, '目前': 1, '国内': 1, ...              0.0  \n",
      "3  {'文章': 1, '简要': 1, '介绍': 1, '目前': 1, '国内': 1, ...              0.0  \n",
      "4  {'文章': 1, '简要': 1, '介绍': 1, '目前': 1, '国内': 1, ...              0.0  \n"
     ]
    },
    {
     "name": "stderr",
     "output_type": "stream",
     "text": [
      "\r",
      "2it [00:14,  7.37s/it]"
     ]
    },
    {
     "name": "stdout",
     "output_type": "stream",
     "text": [
      "   related_id                                       train_vector     id  \\\n",
      "0       98495  {'ft': 1, 'ir': 1, '产物': 1, '结构': 1, '进行': 1, ...  11277   \n",
      "1       40279  {'方法': 2, '利用': 1, '硅胶': 1, 'ods': 1, '及大孔': 1...  11277   \n",
      "2        8195  {'聚烯烃': 1, '技术': 1, '快速': 1, '发展': 2, '市场占有率':...  11277   \n",
      "3       47349  {'猪脑': 1, '心肌炎': 1, '病毒': 1, 'emcv': 3, 'gxlc'...  11277   \n",
      "4        2839  {'结果表明': 1, '实生苗': 2, '造林': 3, '萌芽': 2, '更新': ...  11277   \n",
      "\n",
      "                            test_vector  cosine_abstract  \n",
      "0  {'相关': 1, '实际': 1, '案例': 1, '给出': 1}              0.0  \n",
      "1  {'相关': 1, '实际': 1, '案例': 1, '给出': 1}              0.0  \n",
      "2  {'相关': 1, '实际': 1, '案例': 1, '给出': 1}              0.0  \n",
      "3  {'相关': 1, '实际': 1, '案例': 1, '给出': 1}              0.0  \n",
      "4  {'相关': 1, '实际': 1, '案例': 1, '给出': 1}              0.0  \n"
     ]
    },
    {
     "name": "stderr",
     "output_type": "stream",
     "text": [
      "\r",
      "3it [00:20,  6.75s/it]"
     ]
    },
    {
     "name": "stdout",
     "output_type": "stream",
     "text": [
      "   related_id                                       train_vector     id  \\\n",
      "0       98495  {'ft': 1, 'ir': 1, '产物': 1, '结构': 1, '进行': 1, ...  67034   \n",
      "1       40279  {'方法': 2, '利用': 1, '硅胶': 1, 'ods': 1, '及大孔': 1...  67034   \n",
      "2        8195  {'聚烯烃': 1, '技术': 1, '快速': 1, '发展': 2, '市场占有率':...  67034   \n",
      "3       47349  {'猪脑': 1, '心肌炎': 1, '病毒': 1, 'emcv': 3, 'gxlc'...  67034   \n",
      "4        2839  {'结果表明': 1, '实生苗': 2, '造林': 3, '萌芽': 2, '更新': ...  67034   \n",
      "\n",
      "                                         test_vector  cosine_abstract  \n",
      "0  {'阴离子': 3, '黏土': 3, '水中': 1, 'as': 3, '吸附': 6,...              0.0  \n",
      "1  {'阴离子': 3, '黏土': 3, '水中': 1, 'as': 3, '吸附': 6,...              0.0  \n",
      "2  {'阴离子': 3, '黏土': 3, '水中': 1, 'as': 3, '吸附': 6,...              0.0  \n",
      "3  {'阴离子': 3, '黏土': 3, '水中': 1, 'as': 3, '吸附': 6,...              0.0  \n",
      "4  {'阴离子': 3, '黏土': 3, '水中': 1, 'as': 3, '吸附': 6,...              0.0  \n"
     ]
    },
    {
     "name": "stderr",
     "output_type": "stream",
     "text": [
      "\r",
      "4it [00:29,  7.36s/it]"
     ]
    },
    {
     "name": "stdout",
     "output_type": "stream",
     "text": [
      "   related_id                                       train_vector     id  \\\n",
      "0       98495  {'ft': 1, 'ir': 1, '产物': 1, '结构': 1, '进行': 1, ...  43133   \n",
      "1       40279  {'方法': 2, '利用': 1, '硅胶': 1, 'ods': 1, '及大孔': 1...  43133   \n",
      "2        8195  {'聚烯烃': 1, '技术': 1, '快速': 1, '发展': 2, '市场占有率':...  43133   \n",
      "3       47349  {'猪脑': 1, '心肌炎': 1, '病毒': 1, 'emcv': 3, 'gxlc'...  43133   \n",
      "4        2839  {'结果表明': 1, '实生苗': 2, '造林': 3, '萌芽': 2, '更新': ...  43133   \n",
      "\n",
      "                                         test_vector  cosine_abstract  \n",
      "0  {'包含': 1, '超平面': 2, '组成': 2, '集合': 2, '信源': 1,...              0.0  \n",
      "1  {'包含': 1, '超平面': 2, '组成': 2, '集合': 2, '信源': 1,...              0.0  \n",
      "2  {'包含': 1, '超平面': 2, '组成': 2, '集合': 2, '信源': 1,...              0.0  \n",
      "3  {'包含': 1, '超平面': 2, '组成': 2, '集合': 2, '信源': 1,...              0.0  \n",
      "4  {'包含': 1, '超平面': 2, '组成': 2, '集合': 2, '信源': 1,...              0.0  \n"
     ]
    },
    {
     "name": "stderr",
     "output_type": "stream",
     "text": [
      "5it [00:35,  7.11s/it]\n"
     ]
    }
   ],
   "source": [
    "for index, row in tqdm(test.head(5).iterrows()):\n",
    "    compare_df_one = get_compare_df(train,row['id'],row['test_content'])"
   ]
  },
  {
   "cell_type": "code",
   "execution_count": null,
   "metadata": {},
   "outputs": [],
   "source": []
  },
  {
   "cell_type": "code",
   "execution_count": null,
   "metadata": {},
   "outputs": [],
   "source": [
    "%%time\n",
    "frequency_vec = find_relation(data)"
   ]
  },
  {
   "cell_type": "code",
   "execution_count": null,
   "metadata": {},
   "outputs": [],
   "source": [
    "frequency_vec['id'] = le.inverse_transform(frequency_vec['id'])\n",
    "frequency_vec['related_id'] = le.inverse_transform(frequency_vec['related_id'])"
   ]
  },
  {
   "cell_type": "code",
   "execution_count": null,
   "metadata": {},
   "outputs": [],
   "source": [
    "frequency_vec.to_csv('../feature/cosine_abstract.csv',index=False)"
   ]
  },
  {
   "cell_type": "code",
   "execution_count": null,
   "metadata": {},
   "outputs": [],
   "source": [
    "frequency_vec = pd.read_csv('../feature/cosine_abstract.csv')"
   ]
  },
  {
   "cell_type": "code",
   "execution_count": null,
   "metadata": {},
   "outputs": [],
   "source": [
    "print(frequency_vec.shape)"
   ]
  },
  {
   "cell_type": "code",
   "execution_count": null,
   "metadata": {},
   "outputs": [],
   "source": [
    "print(frequency_vec.describe())"
   ]
  },
  {
   "cell_type": "code",
   "execution_count": null,
   "metadata": {},
   "outputs": [],
   "source": [
    "#frequency_pivot.replace({'﻿mhY5opF':'?mhY5opF4'},inplace=True) \n",
    "frequency_pivot = frequency_vec.set_index(['id','related_id']).unstack()"
   ]
  },
  {
   "cell_type": "raw",
   "metadata": {},
   "source": [
    "frequency_pivot.reset_index().to_csv('../feature/frequency_pivot.csv',index=False)\n",
    "\n",
    "frequency_pivot = pd.read_csv('../feature/frequency_pivot.csv',skiprows=1 )"
   ]
  },
  {
   "cell_type": "code",
   "execution_count": null,
   "metadata": {},
   "outputs": [],
   "source": [
    "result = frequency_pivot.idxmax(axis = 1).apply(lambda x : str(x)[21:29])"
   ]
  },
  {
   "cell_type": "code",
   "execution_count": null,
   "metadata": {},
   "outputs": [],
   "source": [
    "import numpy as np\n",
    "result_pro = np.max(frequency_pivot,axis=1)"
   ]
  },
  {
   "cell_type": "code",
   "execution_count": null,
   "metadata": {},
   "outputs": [],
   "source": [
    "frequency_pivot.index"
   ]
  },
  {
   "cell_type": "code",
   "execution_count": null,
   "metadata": {},
   "outputs": [],
   "source": [
    "sub = pd.DataFrame({'test_id':frequency_pivot.index,'result':result,'pro':result_pro})"
   ]
  },
  {
   "cell_type": "code",
   "execution_count": null,
   "metadata": {},
   "outputs": [],
   "source": [
    "sub.replace({'?mhY5opF':'?mhY5opF4'},inplace=True) "
   ]
  },
  {
   "cell_type": "code",
   "execution_count": null,
   "metadata": {},
   "outputs": [],
   "source": [
    "sub.describe()"
   ]
  },
  {
   "cell_type": "code",
   "execution_count": null,
   "metadata": {},
   "outputs": [],
   "source": [
    "def threshold(result,distance):\n",
    "    if distance > 0.545455:\n",
    "        return result\n",
    "    else:\n",
    "        return "
   ]
  },
  {
   "cell_type": "code",
   "execution_count": null,
   "metadata": {},
   "outputs": [],
   "source": [
    "sub['result'] = sub.apply(lambda row: threshold(row['result'],row['pro']),axis=1)"
   ]
  },
  {
   "cell_type": "code",
   "execution_count": null,
   "metadata": {},
   "outputs": [],
   "source": [
    "sub.drop('pro',axis=1).to_csv('../output/frequency_threshold50.csv',index=False)"
   ]
  },
  {
   "cell_type": "code",
   "execution_count": null,
   "metadata": {},
   "outputs": [],
   "source": [
    "sub.head()"
   ]
  },
  {
   "cell_type": "code",
   "execution_count": null,
   "metadata": {},
   "outputs": [],
   "source": []
  }
 ],
 "metadata": {
  "kernelspec": {
   "display_name": "Python 3",
   "language": "python",
   "name": "python3"
  },
  "language_info": {
   "codemirror_mode": {
    "name": "ipython",
    "version": 3
   },
   "file_extension": ".py",
   "mimetype": "text/x-python",
   "name": "python",
   "nbconvert_exporter": "python",
   "pygments_lexer": "ipython3",
   "version": "3.6.4"
  }
 },
 "nbformat": 4,
 "nbformat_minor": 2
}
