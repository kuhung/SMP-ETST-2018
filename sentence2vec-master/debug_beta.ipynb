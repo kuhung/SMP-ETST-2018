{
 "cells": [
  {
   "cell_type": "code",
   "execution_count": 1,
   "metadata": {},
   "outputs": [],
   "source": [
    "from lib.sentence2vec import Sentence2Vec\n",
    "import pandas as pd"
   ]
  },
  {
   "cell_type": "code",
   "execution_count": 2,
   "metadata": {},
   "outputs": [
    {
     "name": "stderr",
     "output_type": "stream",
     "text": [
      "/Users/zhoujingjing/anaconda3/lib/python3.6/site-packages/pandas/core/frame.py:3694: SettingWithCopyWarning: \n",
      "A value is trying to be set on a copy of a slice from a DataFrame\n",
      "\n",
      "See the caveats in the documentation: http://pandas.pydata.org/pandas-docs/stable/indexing.html#indexing-view-versus-copy\n",
      "  errors=errors)\n"
     ]
    }
   ],
   "source": [
    "data = pd.read_csv('../feature/data_cutted.csv')\n",
    "model = Sentence2Vec('../feature/content_small.model')\n",
    "\n",
    "sen2vec = pd.DataFrame(data['content'].apply(lambda x:model.get_vector(str(x))).tolist())\n",
    "\n",
    "data_df = pd.concat([data,sen2vec],axis=1)\n",
    "data_df.drop(['content'],axis=1,inplace=True)\n",
    "\n",
    "#data_df.to_csv('../feature/data_vec.csv',index=False)\n",
    "#data_df = pd.read_csv('../feature/data_vec.csv')\n",
    "\n",
    "train = data_df.loc[data_df['source']=='train']\n",
    "test = data_df.loc[data_df['source']=='test']\n",
    "\n",
    "train.drop(['source'],axis=1,inplace=True)\n",
    "test.drop(['source'],axis=1,inplace=True)\n",
    "\n",
    "del data_df"
   ]
  },
  {
   "cell_type": "code",
   "execution_count": 3,
   "metadata": {},
   "outputs": [
    {
     "data": {
      "text/html": [
       "<div>\n",
       "<style scoped>\n",
       "    .dataframe tbody tr th:only-of-type {\n",
       "        vertical-align: middle;\n",
       "    }\n",
       "\n",
       "    .dataframe tbody tr th {\n",
       "        vertical-align: top;\n",
       "    }\n",
       "\n",
       "    .dataframe thead th {\n",
       "        text-align: right;\n",
       "    }\n",
       "</style>\n",
       "<table border=\"1\" class=\"dataframe\">\n",
       "  <thead>\n",
       "    <tr style=\"text-align: right;\">\n",
       "      <th></th>\n",
       "      <th>id</th>\n",
       "      <th>0</th>\n",
       "      <th>1</th>\n",
       "      <th>2</th>\n",
       "      <th>3</th>\n",
       "      <th>4</th>\n",
       "      <th>5</th>\n",
       "      <th>6</th>\n",
       "      <th>7</th>\n",
       "      <th>8</th>\n",
       "      <th>...</th>\n",
       "      <th>290</th>\n",
       "      <th>291</th>\n",
       "      <th>292</th>\n",
       "      <th>293</th>\n",
       "      <th>294</th>\n",
       "      <th>295</th>\n",
       "      <th>296</th>\n",
       "      <th>297</th>\n",
       "      <th>298</th>\n",
       "      <th>299</th>\n",
       "    </tr>\n",
       "  </thead>\n",
       "  <tbody>\n",
       "    <tr>\n",
       "      <th>0</th>\n",
       "      <td>yhM4ivIm</td>\n",
       "      <td>-0.000489</td>\n",
       "      <td>0.006424</td>\n",
       "      <td>-0.000634</td>\n",
       "      <td>0.000838</td>\n",
       "      <td>0.011319</td>\n",
       "      <td>0.000702</td>\n",
       "      <td>-0.003625</td>\n",
       "      <td>-0.000884</td>\n",
       "      <td>-0.000510</td>\n",
       "      <td>...</td>\n",
       "      <td>0.002738</td>\n",
       "      <td>-0.002048</td>\n",
       "      <td>0.000028</td>\n",
       "      <td>-0.003345</td>\n",
       "      <td>-0.001122</td>\n",
       "      <td>0.001509</td>\n",
       "      <td>0.001144</td>\n",
       "      <td>-0.009643</td>\n",
       "      <td>0.001227</td>\n",
       "      <td>0.001722</td>\n",
       "    </tr>\n",
       "    <tr>\n",
       "      <th>1</th>\n",
       "      <td>OeJidjGX</td>\n",
       "      <td>-0.000468</td>\n",
       "      <td>0.006323</td>\n",
       "      <td>-0.002555</td>\n",
       "      <td>0.001104</td>\n",
       "      <td>0.014201</td>\n",
       "      <td>-0.001923</td>\n",
       "      <td>-0.009285</td>\n",
       "      <td>-0.005986</td>\n",
       "      <td>0.009980</td>\n",
       "      <td>...</td>\n",
       "      <td>0.008317</td>\n",
       "      <td>-0.004408</td>\n",
       "      <td>-0.005493</td>\n",
       "      <td>0.003575</td>\n",
       "      <td>-0.006894</td>\n",
       "      <td>-0.008139</td>\n",
       "      <td>-0.002329</td>\n",
       "      <td>-0.006802</td>\n",
       "      <td>0.005028</td>\n",
       "      <td>0.000220</td>\n",
       "    </tr>\n",
       "    <tr>\n",
       "      <th>2</th>\n",
       "      <td>4wWp3dGK</td>\n",
       "      <td>-0.001736</td>\n",
       "      <td>0.002232</td>\n",
       "      <td>0.000045</td>\n",
       "      <td>-0.004270</td>\n",
       "      <td>0.004914</td>\n",
       "      <td>0.004732</td>\n",
       "      <td>0.000825</td>\n",
       "      <td>0.000135</td>\n",
       "      <td>0.001287</td>\n",
       "      <td>...</td>\n",
       "      <td>-0.003094</td>\n",
       "      <td>-0.010099</td>\n",
       "      <td>-0.005695</td>\n",
       "      <td>-0.012348</td>\n",
       "      <td>-0.004554</td>\n",
       "      <td>0.001013</td>\n",
       "      <td>-0.000672</td>\n",
       "      <td>-0.004208</td>\n",
       "      <td>0.000265</td>\n",
       "      <td>0.001462</td>\n",
       "    </tr>\n",
       "    <tr>\n",
       "      <th>3</th>\n",
       "      <td>T0senQto</td>\n",
       "      <td>-0.004385</td>\n",
       "      <td>0.006698</td>\n",
       "      <td>-0.005495</td>\n",
       "      <td>-0.004874</td>\n",
       "      <td>0.019540</td>\n",
       "      <td>-0.002231</td>\n",
       "      <td>0.007779</td>\n",
       "      <td>-0.005792</td>\n",
       "      <td>-0.001375</td>\n",
       "      <td>...</td>\n",
       "      <td>0.012416</td>\n",
       "      <td>-0.010862</td>\n",
       "      <td>-0.007198</td>\n",
       "      <td>-0.008945</td>\n",
       "      <td>-0.009026</td>\n",
       "      <td>-0.018687</td>\n",
       "      <td>0.010948</td>\n",
       "      <td>-0.022148</td>\n",
       "      <td>0.014432</td>\n",
       "      <td>0.002735</td>\n",
       "    </tr>\n",
       "    <tr>\n",
       "      <th>4</th>\n",
       "      <td>1jAboq7C</td>\n",
       "      <td>0.000545</td>\n",
       "      <td>0.001087</td>\n",
       "      <td>0.002131</td>\n",
       "      <td>-0.000466</td>\n",
       "      <td>0.003713</td>\n",
       "      <td>-0.000793</td>\n",
       "      <td>-0.000485</td>\n",
       "      <td>0.001973</td>\n",
       "      <td>-0.002907</td>\n",
       "      <td>...</td>\n",
       "      <td>0.001476</td>\n",
       "      <td>-0.002533</td>\n",
       "      <td>-0.001731</td>\n",
       "      <td>-0.002808</td>\n",
       "      <td>-0.000747</td>\n",
       "      <td>-0.000633</td>\n",
       "      <td>0.000697</td>\n",
       "      <td>0.002841</td>\n",
       "      <td>0.004798</td>\n",
       "      <td>-0.000442</td>\n",
       "    </tr>\n",
       "  </tbody>\n",
       "</table>\n",
       "<p>5 rows × 301 columns</p>\n",
       "</div>"
      ],
      "text/plain": [
       "         id         0         1         2         3         4         5  \\\n",
       "0  yhM4ivIm -0.000489  0.006424 -0.000634  0.000838  0.011319  0.000702   \n",
       "1  OeJidjGX -0.000468  0.006323 -0.002555  0.001104  0.014201 -0.001923   \n",
       "2  4wWp3dGK -0.001736  0.002232  0.000045 -0.004270  0.004914  0.004732   \n",
       "3  T0senQto -0.004385  0.006698 -0.005495 -0.004874  0.019540 -0.002231   \n",
       "4  1jAboq7C  0.000545  0.001087  0.002131 -0.000466  0.003713 -0.000793   \n",
       "\n",
       "          6         7         8    ...          290       291       292  \\\n",
       "0 -0.003625 -0.000884 -0.000510    ...     0.002738 -0.002048  0.000028   \n",
       "1 -0.009285 -0.005986  0.009980    ...     0.008317 -0.004408 -0.005493   \n",
       "2  0.000825  0.000135  0.001287    ...    -0.003094 -0.010099 -0.005695   \n",
       "3  0.007779 -0.005792 -0.001375    ...     0.012416 -0.010862 -0.007198   \n",
       "4 -0.000485  0.001973 -0.002907    ...     0.001476 -0.002533 -0.001731   \n",
       "\n",
       "        293       294       295       296       297       298       299  \n",
       "0 -0.003345 -0.001122  0.001509  0.001144 -0.009643  0.001227  0.001722  \n",
       "1  0.003575 -0.006894 -0.008139 -0.002329 -0.006802  0.005028  0.000220  \n",
       "2 -0.012348 -0.004554  0.001013 -0.000672 -0.004208  0.000265  0.001462  \n",
       "3 -0.008945 -0.009026 -0.018687  0.010948 -0.022148  0.014432  0.002735  \n",
       "4 -0.002808 -0.000747 -0.000633  0.000697  0.002841  0.004798 -0.000442  \n",
       "\n",
       "[5 rows x 301 columns]"
      ]
     },
     "execution_count": 3,
     "metadata": {},
     "output_type": "execute_result"
    }
   ],
   "source": [
    "train.head()"
   ]
  },
  {
   "cell_type": "code",
   "execution_count": 4,
   "metadata": {},
   "outputs": [],
   "source": [
    "X = train.drop(['id'],axis=1)"
   ]
  },
  {
   "cell_type": "code",
   "execution_count": 5,
   "metadata": {},
   "outputs": [],
   "source": [
    "y = train['id']"
   ]
  },
  {
   "cell_type": "code",
   "execution_count": 6,
   "metadata": {},
   "outputs": [
    {
     "data": {
      "text/plain": [
       "KNeighborsClassifier(algorithm='auto', leaf_size=30, metric='minkowski',\n",
       "           metric_params=None, n_jobs=1, n_neighbors=1, p=2,\n",
       "           weights='uniform')"
      ]
     },
     "execution_count": 6,
     "metadata": {},
     "output_type": "execute_result"
    }
   ],
   "source": [
    "from sklearn.neighbors import KNeighborsClassifier\n",
    "neigh = KNeighborsClassifier(n_neighbors=1)\n",
    "neigh.fit(X, y) "
   ]
  },
  {
   "cell_type": "code",
   "execution_count": 7,
   "metadata": {},
   "outputs": [],
   "source": [
    "feature = test.drop(['id'],axis=1)\n",
    "result = neigh.predict(feature)\n",
    "\n",
    "sub = pd.DataFrame({'0':test['id'],'1':result})\n",
    "sub.columns=['test_id','result']"
   ]
  },
  {
   "cell_type": "code",
   "execution_count": 8,
   "metadata": {},
   "outputs": [
    {
     "data": {
      "text/html": [
       "<div>\n",
       "<style scoped>\n",
       "    .dataframe tbody tr th:only-of-type {\n",
       "        vertical-align: middle;\n",
       "    }\n",
       "\n",
       "    .dataframe tbody tr th {\n",
       "        vertical-align: top;\n",
       "    }\n",
       "\n",
       "    .dataframe thead th {\n",
       "        text-align: right;\n",
       "    }\n",
       "</style>\n",
       "<table border=\"1\" class=\"dataframe\">\n",
       "  <thead>\n",
       "    <tr style=\"text-align: right;\">\n",
       "      <th></th>\n",
       "      <th>test_id</th>\n",
       "      <th>result</th>\n",
       "    </tr>\n",
       "  </thead>\n",
       "  <tbody>\n",
       "    <tr>\n",
       "      <th>99544</th>\n",
       "      <td>ahpq2Zzn</td>\n",
       "      <td>OBIWG4sg</td>\n",
       "    </tr>\n",
       "    <tr>\n",
       "      <th>99545</th>\n",
       "      <td>p2Hkot4E</td>\n",
       "      <td>ZjlDhAMS</td>\n",
       "    </tr>\n",
       "    <tr>\n",
       "      <th>99546</th>\n",
       "      <td>6pEJaYSB</td>\n",
       "      <td>xqeJwCQb</td>\n",
       "    </tr>\n",
       "    <tr>\n",
       "      <th>99547</th>\n",
       "      <td>fEClIHUb</td>\n",
       "      <td>DtWPQnv4</td>\n",
       "    </tr>\n",
       "    <tr>\n",
       "      <th>99548</th>\n",
       "      <td>QORyZCX6</td>\n",
       "      <td>viqACuS2</td>\n",
       "    </tr>\n",
       "  </tbody>\n",
       "</table>\n",
       "</div>"
      ],
      "text/plain": [
       "        test_id    result\n",
       "99544  ahpq2Zzn  OBIWG4sg\n",
       "99545  p2Hkot4E  ZjlDhAMS\n",
       "99546  6pEJaYSB  xqeJwCQb\n",
       "99547  fEClIHUb  DtWPQnv4\n",
       "99548  QORyZCX6  viqACuS2"
      ]
     },
     "execution_count": 8,
     "metadata": {},
     "output_type": "execute_result"
    }
   ],
   "source": [
    "# compute similar\n",
    "sub.head()"
   ]
  },
  {
   "cell_type": "code",
   "execution_count": 9,
   "metadata": {},
   "outputs": [],
   "source": [
    "def get_distance(x,y):\n",
    "    return model.similarity(data[data.id==x]['content'].to_string(),data[data.id==y]['content'].to_string())\n",
    "\n",
    "sub['distance']=sub.apply(lambda row: get_distance(row['test_id'], row['result']), axis=1)"
   ]
  },
  {
   "cell_type": "code",
   "execution_count": 10,
   "metadata": {},
   "outputs": [
    {
     "data": {
      "text/html": [
       "<div>\n",
       "<style scoped>\n",
       "    .dataframe tbody tr th:only-of-type {\n",
       "        vertical-align: middle;\n",
       "    }\n",
       "\n",
       "    .dataframe tbody tr th {\n",
       "        vertical-align: top;\n",
       "    }\n",
       "\n",
       "    .dataframe thead th {\n",
       "        text-align: right;\n",
       "    }\n",
       "</style>\n",
       "<table border=\"1\" class=\"dataframe\">\n",
       "  <thead>\n",
       "    <tr style=\"text-align: right;\">\n",
       "      <th></th>\n",
       "      <th>test_id</th>\n",
       "      <th>result</th>\n",
       "      <th>distance</th>\n",
       "    </tr>\n",
       "  </thead>\n",
       "  <tbody>\n",
       "    <tr>\n",
       "      <th>99544</th>\n",
       "      <td>ahpq2Zzn</td>\n",
       "      <td>OBIWG4sg</td>\n",
       "      <td>0.802831</td>\n",
       "    </tr>\n",
       "    <tr>\n",
       "      <th>99545</th>\n",
       "      <td>p2Hkot4E</td>\n",
       "      <td>ZjlDhAMS</td>\n",
       "      <td>0.724095</td>\n",
       "    </tr>\n",
       "    <tr>\n",
       "      <th>99546</th>\n",
       "      <td>6pEJaYSB</td>\n",
       "      <td>xqeJwCQb</td>\n",
       "      <td>0.842839</td>\n",
       "    </tr>\n",
       "    <tr>\n",
       "      <th>99547</th>\n",
       "      <td>fEClIHUb</td>\n",
       "      <td>DtWPQnv4</td>\n",
       "      <td>0.730220</td>\n",
       "    </tr>\n",
       "    <tr>\n",
       "      <th>99548</th>\n",
       "      <td>QORyZCX6</td>\n",
       "      <td>viqACuS2</td>\n",
       "      <td>0.701679</td>\n",
       "    </tr>\n",
       "  </tbody>\n",
       "</table>\n",
       "</div>"
      ],
      "text/plain": [
       "        test_id    result  distance\n",
       "99544  ahpq2Zzn  OBIWG4sg  0.802831\n",
       "99545  p2Hkot4E  ZjlDhAMS  0.724095\n",
       "99546  6pEJaYSB  xqeJwCQb  0.842839\n",
       "99547  fEClIHUb  DtWPQnv4  0.730220\n",
       "99548  QORyZCX6  viqACuS2  0.701679"
      ]
     },
     "execution_count": 10,
     "metadata": {},
     "output_type": "execute_result"
    }
   ],
   "source": [
    "sub.head()"
   ]
  },
  {
   "cell_type": "code",
   "execution_count": 11,
   "metadata": {},
   "outputs": [
    {
     "data": {
      "text/html": [
       "<div>\n",
       "<style scoped>\n",
       "    .dataframe tbody tr th:only-of-type {\n",
       "        vertical-align: middle;\n",
       "    }\n",
       "\n",
       "    .dataframe tbody tr th {\n",
       "        vertical-align: top;\n",
       "    }\n",
       "\n",
       "    .dataframe thead th {\n",
       "        text-align: right;\n",
       "    }\n",
       "</style>\n",
       "<table border=\"1\" class=\"dataframe\">\n",
       "  <thead>\n",
       "    <tr style=\"text-align: right;\">\n",
       "      <th></th>\n",
       "      <th>distance</th>\n",
       "    </tr>\n",
       "  </thead>\n",
       "  <tbody>\n",
       "    <tr>\n",
       "      <th>count</th>\n",
       "      <td>1000.000000</td>\n",
       "    </tr>\n",
       "    <tr>\n",
       "      <th>mean</th>\n",
       "      <td>0.817399</td>\n",
       "    </tr>\n",
       "    <tr>\n",
       "      <th>std</th>\n",
       "      <td>0.132230</td>\n",
       "    </tr>\n",
       "    <tr>\n",
       "      <th>min</th>\n",
       "      <td>0.210324</td>\n",
       "    </tr>\n",
       "    <tr>\n",
       "      <th>25%</th>\n",
       "      <td>0.731937</td>\n",
       "    </tr>\n",
       "    <tr>\n",
       "      <th>50%</th>\n",
       "      <td>0.828520</td>\n",
       "    </tr>\n",
       "    <tr>\n",
       "      <th>75%</th>\n",
       "      <td>0.929022</td>\n",
       "    </tr>\n",
       "    <tr>\n",
       "      <th>max</th>\n",
       "      <td>1.000000</td>\n",
       "    </tr>\n",
       "  </tbody>\n",
       "</table>\n",
       "</div>"
      ],
      "text/plain": [
       "          distance\n",
       "count  1000.000000\n",
       "mean      0.817399\n",
       "std       0.132230\n",
       "min       0.210324\n",
       "25%       0.731937\n",
       "50%       0.828520\n",
       "75%       0.929022\n",
       "max       1.000000"
      ]
     },
     "execution_count": 11,
     "metadata": {},
     "output_type": "execute_result"
    }
   ],
   "source": [
    "sub.describe()"
   ]
  },
  {
   "cell_type": "code",
   "execution_count": 12,
   "metadata": {},
   "outputs": [],
   "source": [
    "def threshold(result,distance):\n",
    "    if distance > sub['distance'].quantile(.5):\n",
    "        return result\n",
    "    else:\n",
    "        return "
   ]
  },
  {
   "cell_type": "code",
   "execution_count": 13,
   "metadata": {},
   "outputs": [],
   "source": [
    "sub['result'] = sub.apply(lambda row: threshold(row['result'],row['distance']),axis=1)"
   ]
  },
  {
   "cell_type": "code",
   "execution_count": 14,
   "metadata": {},
   "outputs": [],
   "source": [
    "sub.drop('distance',inplace=True,axis=1)"
   ]
  },
  {
   "cell_type": "code",
   "execution_count": 15,
   "metadata": {},
   "outputs": [],
   "source": [
    "sub.replace({'﻿mhY5opF':'?mhY5opF4'},inplace=True)"
   ]
  },
  {
   "cell_type": "code",
   "execution_count": 16,
   "metadata": {},
   "outputs": [],
   "source": [
    "sub.to_csv('../output/sen2vec300small_threshold50.csv',index=False)"
   ]
  },
  {
   "cell_type": "code",
   "execution_count": null,
   "metadata": {},
   "outputs": [],
   "source": []
  }
 ],
 "metadata": {
  "kernelspec": {
   "display_name": "Python 3",
   "language": "python",
   "name": "python3"
  },
  "language_info": {
   "codemirror_mode": {
    "name": "ipython",
    "version": 3
   },
   "file_extension": ".py",
   "mimetype": "text/x-python",
   "name": "python",
   "nbconvert_exporter": "python",
   "pygments_lexer": "ipython3",
   "version": "3.6.5"
  }
 },
 "nbformat": 4,
 "nbformat_minor": 2
}
