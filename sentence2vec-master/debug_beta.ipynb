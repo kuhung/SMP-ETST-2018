{
 "cells": [
  {
   "cell_type": "code",
   "execution_count": 1,
   "metadata": {},
   "outputs": [
    {
     "name": "stderr",
     "output_type": "stream",
     "text": [
      "F:\\software\\Anaconda3\\lib\\site-packages\\gensim\\utils.py:1197: UserWarning: detected Windows; aliasing chunkize to chunkize_serial\n",
      "  warnings.warn(\"detected Windows; aliasing chunkize to chunkize_serial\")\n"
     ]
    }
   ],
   "source": [
    "from lib.sentence2vec import Sentence2Vec\n",
    "import pandas as pd"
   ]
  },
  {
   "cell_type": "code",
   "execution_count": 2,
   "metadata": {},
   "outputs": [
    {
     "name": "stderr",
     "output_type": "stream",
     "text": [
      "C:\\Users\\kuhung\\AppData\\Roaming\\Python\\Python36\\site-packages\\ipykernel_launcher.py:15: SettingWithCopyWarning: \n",
      "A value is trying to be set on a copy of a slice from a DataFrame\n",
      "\n",
      "See the caveats in the documentation: http://pandas.pydata.org/pandas-docs/stable/indexing.html#indexing-view-versus-copy\n",
      "  from ipykernel import kernelapp as app\n",
      "C:\\Users\\kuhung\\AppData\\Roaming\\Python\\Python36\\site-packages\\ipykernel_launcher.py:16: SettingWithCopyWarning: \n",
      "A value is trying to be set on a copy of a slice from a DataFrame\n",
      "\n",
      "See the caveats in the documentation: http://pandas.pydata.org/pandas-docs/stable/indexing.html#indexing-view-versus-copy\n",
      "  app.launch_new_instance()\n"
     ]
    }
   ],
   "source": [
    "data = pd.read_csv('../feature/data_cutted.csv')\n",
    "model = Sentence2Vec('../feature/content_100.model')\n",
    "\n",
    "sen2vec = pd.DataFrame(data['content'].apply(lambda x:model.get_vector(str(x))).tolist())\n",
    "\n",
    "data_df = pd.concat([data,sen2vec],axis=1)\n",
    "data_df.drop(['content'],axis=1,inplace=True)\n",
    "\n",
    "#data_df.to_csv('../feature/data_vec.csv',index=False)\n",
    "#data_df = pd.read_csv('../feature/data_vec.csv')\n",
    "\n",
    "train = data_df.loc[data_df['source']=='train']\n",
    "test = data_df.loc[data_df['source']=='test']\n",
    "\n",
    "train.drop(['source'],axis=1,inplace=True)\n",
    "test.drop(['source'],axis=1,inplace=True)\n",
    "\n",
    "del data_df"
   ]
  },
  {
   "cell_type": "code",
   "execution_count": 3,
   "metadata": {},
   "outputs": [
    {
     "data": {
      "text/html": [
       "<div>\n",
       "<style>\n",
       "    .dataframe thead tr:only-child th {\n",
       "        text-align: right;\n",
       "    }\n",
       "\n",
       "    .dataframe thead th {\n",
       "        text-align: left;\n",
       "    }\n",
       "\n",
       "    .dataframe tbody tr th {\n",
       "        vertical-align: top;\n",
       "    }\n",
       "</style>\n",
       "<table border=\"1\" class=\"dataframe\">\n",
       "  <thead>\n",
       "    <tr style=\"text-align: right;\">\n",
       "      <th></th>\n",
       "      <th>id</th>\n",
       "      <th>0</th>\n",
       "      <th>1</th>\n",
       "      <th>2</th>\n",
       "      <th>3</th>\n",
       "      <th>4</th>\n",
       "      <th>5</th>\n",
       "      <th>6</th>\n",
       "      <th>7</th>\n",
       "      <th>8</th>\n",
       "      <th>...</th>\n",
       "      <th>90</th>\n",
       "      <th>91</th>\n",
       "      <th>92</th>\n",
       "      <th>93</th>\n",
       "      <th>94</th>\n",
       "      <th>95</th>\n",
       "      <th>96</th>\n",
       "      <th>97</th>\n",
       "      <th>98</th>\n",
       "      <th>99</th>\n",
       "    </tr>\n",
       "  </thead>\n",
       "  <tbody>\n",
       "    <tr>\n",
       "      <th>0</th>\n",
       "      <td>yhM4ivIm</td>\n",
       "      <td>-0.011067</td>\n",
       "      <td>-0.002076</td>\n",
       "      <td>0.004751</td>\n",
       "      <td>0.008949</td>\n",
       "      <td>0.004679</td>\n",
       "      <td>0.013545</td>\n",
       "      <td>0.006279</td>\n",
       "      <td>0.021481</td>\n",
       "      <td>0.011637</td>\n",
       "      <td>...</td>\n",
       "      <td>0.010411</td>\n",
       "      <td>0.012543</td>\n",
       "      <td>-0.011424</td>\n",
       "      <td>0.008330</td>\n",
       "      <td>-0.002789</td>\n",
       "      <td>0.010611</td>\n",
       "      <td>-0.005866</td>\n",
       "      <td>0.014511</td>\n",
       "      <td>0.026303</td>\n",
       "      <td>-0.005738</td>\n",
       "    </tr>\n",
       "    <tr>\n",
       "      <th>1</th>\n",
       "      <td>OeJidjGX</td>\n",
       "      <td>-0.018658</td>\n",
       "      <td>0.032255</td>\n",
       "      <td>-0.027114</td>\n",
       "      <td>0.017345</td>\n",
       "      <td>0.010428</td>\n",
       "      <td>0.059051</td>\n",
       "      <td>0.014392</td>\n",
       "      <td>0.038320</td>\n",
       "      <td>0.038810</td>\n",
       "      <td>...</td>\n",
       "      <td>0.005236</td>\n",
       "      <td>0.021921</td>\n",
       "      <td>-0.061973</td>\n",
       "      <td>0.009029</td>\n",
       "      <td>-0.021268</td>\n",
       "      <td>0.032886</td>\n",
       "      <td>0.006841</td>\n",
       "      <td>0.017118</td>\n",
       "      <td>0.084283</td>\n",
       "      <td>-0.020280</td>\n",
       "    </tr>\n",
       "    <tr>\n",
       "      <th>2</th>\n",
       "      <td>4wWp3dGK</td>\n",
       "      <td>-0.000766</td>\n",
       "      <td>-0.004048</td>\n",
       "      <td>0.023685</td>\n",
       "      <td>-0.002038</td>\n",
       "      <td>0.011975</td>\n",
       "      <td>0.020104</td>\n",
       "      <td>-0.031096</td>\n",
       "      <td>0.006151</td>\n",
       "      <td>-0.009893</td>\n",
       "      <td>...</td>\n",
       "      <td>-0.018228</td>\n",
       "      <td>-0.008004</td>\n",
       "      <td>-0.034211</td>\n",
       "      <td>-0.019323</td>\n",
       "      <td>-0.006644</td>\n",
       "      <td>-0.003683</td>\n",
       "      <td>0.005089</td>\n",
       "      <td>0.001706</td>\n",
       "      <td>-0.006472</td>\n",
       "      <td>-0.026680</td>\n",
       "    </tr>\n",
       "    <tr>\n",
       "      <th>3</th>\n",
       "      <td>T0senQto</td>\n",
       "      <td>-0.054802</td>\n",
       "      <td>0.011654</td>\n",
       "      <td>-0.052005</td>\n",
       "      <td>0.046572</td>\n",
       "      <td>-0.004628</td>\n",
       "      <td>0.017028</td>\n",
       "      <td>-0.011227</td>\n",
       "      <td>0.059478</td>\n",
       "      <td>0.035232</td>\n",
       "      <td>...</td>\n",
       "      <td>-0.021379</td>\n",
       "      <td>-0.060894</td>\n",
       "      <td>-0.064221</td>\n",
       "      <td>0.023103</td>\n",
       "      <td>-0.044009</td>\n",
       "      <td>-0.018016</td>\n",
       "      <td>0.015297</td>\n",
       "      <td>-0.035342</td>\n",
       "      <td>0.094760</td>\n",
       "      <td>0.016432</td>\n",
       "    </tr>\n",
       "    <tr>\n",
       "      <th>4</th>\n",
       "      <td>1jAboq7C</td>\n",
       "      <td>-0.001775</td>\n",
       "      <td>-0.025761</td>\n",
       "      <td>0.006165</td>\n",
       "      <td>0.014823</td>\n",
       "      <td>-0.000683</td>\n",
       "      <td>0.000681</td>\n",
       "      <td>-0.013310</td>\n",
       "      <td>0.005354</td>\n",
       "      <td>0.013457</td>\n",
       "      <td>...</td>\n",
       "      <td>0.005769</td>\n",
       "      <td>-0.008306</td>\n",
       "      <td>-0.023156</td>\n",
       "      <td>0.000741</td>\n",
       "      <td>-0.011380</td>\n",
       "      <td>-0.008875</td>\n",
       "      <td>0.006091</td>\n",
       "      <td>0.014180</td>\n",
       "      <td>0.005470</td>\n",
       "      <td>-0.013609</td>\n",
       "    </tr>\n",
       "  </tbody>\n",
       "</table>\n",
       "<p>5 rows × 101 columns</p>\n",
       "</div>"
      ],
      "text/plain": [
       "         id         0         1         2         3         4         5  \\\n",
       "0  yhM4ivIm -0.011067 -0.002076  0.004751  0.008949  0.004679  0.013545   \n",
       "1  OeJidjGX -0.018658  0.032255 -0.027114  0.017345  0.010428  0.059051   \n",
       "2  4wWp3dGK -0.000766 -0.004048  0.023685 -0.002038  0.011975  0.020104   \n",
       "3  T0senQto -0.054802  0.011654 -0.052005  0.046572 -0.004628  0.017028   \n",
       "4  1jAboq7C -0.001775 -0.025761  0.006165  0.014823 -0.000683  0.000681   \n",
       "\n",
       "          6         7         8    ...           90        91        92  \\\n",
       "0  0.006279  0.021481  0.011637    ...     0.010411  0.012543 -0.011424   \n",
       "1  0.014392  0.038320  0.038810    ...     0.005236  0.021921 -0.061973   \n",
       "2 -0.031096  0.006151 -0.009893    ...    -0.018228 -0.008004 -0.034211   \n",
       "3 -0.011227  0.059478  0.035232    ...    -0.021379 -0.060894 -0.064221   \n",
       "4 -0.013310  0.005354  0.013457    ...     0.005769 -0.008306 -0.023156   \n",
       "\n",
       "         93        94        95        96        97        98        99  \n",
       "0  0.008330 -0.002789  0.010611 -0.005866  0.014511  0.026303 -0.005738  \n",
       "1  0.009029 -0.021268  0.032886  0.006841  0.017118  0.084283 -0.020280  \n",
       "2 -0.019323 -0.006644 -0.003683  0.005089  0.001706 -0.006472 -0.026680  \n",
       "3  0.023103 -0.044009 -0.018016  0.015297 -0.035342  0.094760  0.016432  \n",
       "4  0.000741 -0.011380 -0.008875  0.006091  0.014180  0.005470 -0.013609  \n",
       "\n",
       "[5 rows x 101 columns]"
      ]
     },
     "execution_count": 3,
     "metadata": {},
     "output_type": "execute_result"
    }
   ],
   "source": [
    "train.head()"
   ]
  },
  {
   "cell_type": "code",
   "execution_count": 4,
   "metadata": {},
   "outputs": [],
   "source": [
    "X = train.drop(['id'],axis=1)"
   ]
  },
  {
   "cell_type": "code",
   "execution_count": 5,
   "metadata": {},
   "outputs": [],
   "source": [
    "y = train['id']"
   ]
  },
  {
   "cell_type": "code",
   "execution_count": 6,
   "metadata": {},
   "outputs": [
    {
     "data": {
      "text/plain": [
       "KNeighborsClassifier(algorithm='auto', leaf_size=30, metric='minkowski',\n",
       "           metric_params=None, n_jobs=1, n_neighbors=1, p=2,\n",
       "           weights='uniform')"
      ]
     },
     "execution_count": 6,
     "metadata": {},
     "output_type": "execute_result"
    }
   ],
   "source": [
    "from sklearn.neighbors import KNeighborsClassifier\n",
    "neigh = KNeighborsClassifier(n_neighbors=1)\n",
    "neigh.fit(X, y) "
   ]
  },
  {
   "cell_type": "code",
   "execution_count": 53,
   "metadata": {},
   "outputs": [],
   "source": [
    "feature = test.drop(['id'],axis=1)\n",
    "result = neigh.predict(feature)\n",
    "\n",
    "sub = pd.DataFrame({'0':test['id'],'1':result})\n",
    "sub.columns=['test_id','result']"
   ]
  },
  {
   "cell_type": "code",
   "execution_count": 54,
   "metadata": {},
   "outputs": [
    {
     "data": {
      "text/html": [
       "<div>\n",
       "<style>\n",
       "    .dataframe thead tr:only-child th {\n",
       "        text-align: right;\n",
       "    }\n",
       "\n",
       "    .dataframe thead th {\n",
       "        text-align: left;\n",
       "    }\n",
       "\n",
       "    .dataframe tbody tr th {\n",
       "        vertical-align: top;\n",
       "    }\n",
       "</style>\n",
       "<table border=\"1\" class=\"dataframe\">\n",
       "  <thead>\n",
       "    <tr style=\"text-align: right;\">\n",
       "      <th></th>\n",
       "      <th>test_id</th>\n",
       "      <th>result</th>\n",
       "    </tr>\n",
       "  </thead>\n",
       "  <tbody>\n",
       "    <tr>\n",
       "      <th>99544</th>\n",
       "      <td>ahpq2Zzn</td>\n",
       "      <td>HeGxWnKV</td>\n",
       "    </tr>\n",
       "    <tr>\n",
       "      <th>99545</th>\n",
       "      <td>p2Hkot4E</td>\n",
       "      <td>EemG3TYB</td>\n",
       "    </tr>\n",
       "    <tr>\n",
       "      <th>99546</th>\n",
       "      <td>6pEJaYSB</td>\n",
       "      <td>nboyHcTL</td>\n",
       "    </tr>\n",
       "    <tr>\n",
       "      <th>99547</th>\n",
       "      <td>fEClIHUb</td>\n",
       "      <td>DtWPQnv4</td>\n",
       "    </tr>\n",
       "    <tr>\n",
       "      <th>99548</th>\n",
       "      <td>QORyZCX6</td>\n",
       "      <td>viqACuS2</td>\n",
       "    </tr>\n",
       "  </tbody>\n",
       "</table>\n",
       "</div>"
      ],
      "text/plain": [
       "        test_id    result\n",
       "99544  ahpq2Zzn  HeGxWnKV\n",
       "99545  p2Hkot4E  EemG3TYB\n",
       "99546  6pEJaYSB  nboyHcTL\n",
       "99547  fEClIHUb  DtWPQnv4\n",
       "99548  QORyZCX6  viqACuS2"
      ]
     },
     "execution_count": 54,
     "metadata": {},
     "output_type": "execute_result"
    }
   ],
   "source": [
    "# compute similar\n",
    "sub.head()"
   ]
  },
  {
   "cell_type": "code",
   "execution_count": 55,
   "metadata": {},
   "outputs": [
    {
     "name": "stderr",
     "output_type": "stream",
     "text": [
      "F:\\kuhung\\Desktop\\LAB\\SMP ETST 2018\\sentence2vec-master\\lib\\sentence2vec.py:40: RuntimeWarning: invalid value encountered in double_scalars\n",
      "  score = dot(xv, yv) / (norm(xv) * norm(yv))\n"
     ]
    }
   ],
   "source": [
    "def get_distance(x,y):\n",
    "    return model.similarity(data[data.id==x]['content'].to_string(),data[data.id==y]['content'].to_string())\n",
    "\n",
    "sub['distance']=sub.apply(lambda row: get_distance(row['test_id'], row['result']), axis=1)"
   ]
  },
  {
   "cell_type": "code",
   "execution_count": 56,
   "metadata": {},
   "outputs": [
    {
     "data": {
      "text/html": [
       "<div>\n",
       "<style>\n",
       "    .dataframe thead tr:only-child th {\n",
       "        text-align: right;\n",
       "    }\n",
       "\n",
       "    .dataframe thead th {\n",
       "        text-align: left;\n",
       "    }\n",
       "\n",
       "    .dataframe tbody tr th {\n",
       "        vertical-align: top;\n",
       "    }\n",
       "</style>\n",
       "<table border=\"1\" class=\"dataframe\">\n",
       "  <thead>\n",
       "    <tr style=\"text-align: right;\">\n",
       "      <th></th>\n",
       "      <th>test_id</th>\n",
       "      <th>result</th>\n",
       "      <th>distance</th>\n",
       "    </tr>\n",
       "  </thead>\n",
       "  <tbody>\n",
       "    <tr>\n",
       "      <th>99544</th>\n",
       "      <td>ahpq2Zzn</td>\n",
       "      <td>HeGxWnKV</td>\n",
       "      <td>0.926980</td>\n",
       "    </tr>\n",
       "    <tr>\n",
       "      <th>99545</th>\n",
       "      <td>p2Hkot4E</td>\n",
       "      <td>EemG3TYB</td>\n",
       "      <td>0.690158</td>\n",
       "    </tr>\n",
       "    <tr>\n",
       "      <th>99546</th>\n",
       "      <td>6pEJaYSB</td>\n",
       "      <td>nboyHcTL</td>\n",
       "      <td>0.892106</td>\n",
       "    </tr>\n",
       "    <tr>\n",
       "      <th>99547</th>\n",
       "      <td>fEClIHUb</td>\n",
       "      <td>DtWPQnv4</td>\n",
       "      <td>0.681556</td>\n",
       "    </tr>\n",
       "    <tr>\n",
       "      <th>99548</th>\n",
       "      <td>QORyZCX6</td>\n",
       "      <td>viqACuS2</td>\n",
       "      <td>0.766129</td>\n",
       "    </tr>\n",
       "  </tbody>\n",
       "</table>\n",
       "</div>"
      ],
      "text/plain": [
       "        test_id    result  distance\n",
       "99544  ahpq2Zzn  HeGxWnKV  0.926980\n",
       "99545  p2Hkot4E  EemG3TYB  0.690158\n",
       "99546  6pEJaYSB  nboyHcTL  0.892106\n",
       "99547  fEClIHUb  DtWPQnv4  0.681556\n",
       "99548  QORyZCX6  viqACuS2  0.766129"
      ]
     },
     "execution_count": 56,
     "metadata": {},
     "output_type": "execute_result"
    }
   ],
   "source": [
    "sub.head()"
   ]
  },
  {
   "cell_type": "code",
   "execution_count": 57,
   "metadata": {},
   "outputs": [
    {
     "data": {
      "text/html": [
       "<div>\n",
       "<style>\n",
       "    .dataframe thead tr:only-child th {\n",
       "        text-align: right;\n",
       "    }\n",
       "\n",
       "    .dataframe thead th {\n",
       "        text-align: left;\n",
       "    }\n",
       "\n",
       "    .dataframe tbody tr th {\n",
       "        vertical-align: top;\n",
       "    }\n",
       "</style>\n",
       "<table border=\"1\" class=\"dataframe\">\n",
       "  <thead>\n",
       "    <tr style=\"text-align: right;\">\n",
       "      <th></th>\n",
       "      <th>distance</th>\n",
       "    </tr>\n",
       "  </thead>\n",
       "  <tbody>\n",
       "    <tr>\n",
       "      <th>count</th>\n",
       "      <td>998.000000</td>\n",
       "    </tr>\n",
       "    <tr>\n",
       "      <th>mean</th>\n",
       "      <td>0.858690</td>\n",
       "    </tr>\n",
       "    <tr>\n",
       "      <th>std</th>\n",
       "      <td>0.110571</td>\n",
       "    </tr>\n",
       "    <tr>\n",
       "      <th>min</th>\n",
       "      <td>0.350115</td>\n",
       "    </tr>\n",
       "    <tr>\n",
       "      <th>25%</th>\n",
       "      <td>0.796180</td>\n",
       "    </tr>\n",
       "    <tr>\n",
       "      <th>50%</th>\n",
       "      <td>0.876988</td>\n",
       "    </tr>\n",
       "    <tr>\n",
       "      <th>75%</th>\n",
       "      <td>0.945252</td>\n",
       "    </tr>\n",
       "    <tr>\n",
       "      <th>max</th>\n",
       "      <td>1.000000</td>\n",
       "    </tr>\n",
       "  </tbody>\n",
       "</table>\n",
       "</div>"
      ],
      "text/plain": [
       "         distance\n",
       "count  998.000000\n",
       "mean     0.858690\n",
       "std      0.110571\n",
       "min      0.350115\n",
       "25%      0.796180\n",
       "50%      0.876988\n",
       "75%      0.945252\n",
       "max      1.000000"
      ]
     },
     "execution_count": 57,
     "metadata": {},
     "output_type": "execute_result"
    }
   ],
   "source": [
    "sub.describe()"
   ]
  },
  {
   "cell_type": "code",
   "execution_count": 58,
   "metadata": {},
   "outputs": [],
   "source": [
    "def threshold(result,distance):\n",
    "    if distance > 0.876988:\n",
    "        return result\n",
    "    else:\n",
    "        return "
   ]
  },
  {
   "cell_type": "code",
   "execution_count": 59,
   "metadata": {},
   "outputs": [],
   "source": [
    "sub['result'] = sub.apply(lambda row: threshold(row['result'],row['distance']),axis=1)"
   ]
  },
  {
   "cell_type": "code",
   "execution_count": 60,
   "metadata": {},
   "outputs": [],
   "source": [
    "sub.drop('distance',inplace=True,axis=1)"
   ]
  },
  {
   "cell_type": "code",
   "execution_count": 61,
   "metadata": {},
   "outputs": [],
   "source": [
    "sub.replace({'﻿mhY5opF':'?mhY5opF4'},inplace=True)"
   ]
  },
  {
   "cell_type": "code",
   "execution_count": 62,
   "metadata": {},
   "outputs": [],
   "source": [
    "sub.to_csv('../output/sen2vec_threshold50.csv',index=False)"
   ]
  },
  {
   "cell_type": "code",
   "execution_count": null,
   "metadata": {},
   "outputs": [],
   "source": []
  }
 ],
 "metadata": {
  "kernelspec": {
   "display_name": "Python 3",
   "language": "python",
   "name": "python3"
  },
  "language_info": {
   "codemirror_mode": {
    "name": "ipython",
    "version": 3
   },
   "file_extension": ".py",
   "mimetype": "text/x-python",
   "name": "python",
   "nbconvert_exporter": "python",
   "pygments_lexer": "ipython3",
   "version": "3.6.4"
  }
 },
 "nbformat": 4,
 "nbformat_minor": 2
}
